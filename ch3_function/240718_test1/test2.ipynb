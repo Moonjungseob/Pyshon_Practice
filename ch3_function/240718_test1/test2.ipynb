{
 "cells": [
  {
   "cell_type": "code",
   "id": "initial_id",
   "metadata": {
    "collapsed": true,
    "ExecuteTime": {
     "end_time": "2024-07-18T00:42:47.204415Z",
     "start_time": "2024-07-18T00:42:47.201069Z"
    }
   },
   "source": [
    "sampleStr = \"     test 오늘 점심 뭐 먹지?, 비가 오나요 menu : Korean Food     \"\n",
    "print(f\"len(sampleStr) : {len(sampleStr)}\")"
   ],
   "outputs": [
    {
     "name": "stdout",
     "output_type": "stream",
     "text": [
      "len(sampleStr) : 53\n"
     ]
    }
   ],
   "execution_count": 45
  },
  {
   "metadata": {
    "ExecuteTime": {
     "end_time": "2024-07-18T00:42:47.222783Z",
     "start_time": "2024-07-18T00:42:47.219377Z"
    }
   },
   "cell_type": "code",
   "source": "print(sampleStr.upper())",
   "id": "c97adecbea4cefe0",
   "outputs": [
    {
     "name": "stdout",
     "output_type": "stream",
     "text": [
      "     TEST 오늘 점심 뭐 먹지?, 비가 오나요 MENU : KOREAN FOOD     \n"
     ]
    }
   ],
   "execution_count": 46
  },
  {
   "metadata": {
    "ExecuteTime": {
     "end_time": "2024-07-18T00:42:47.228086Z",
     "start_time": "2024-07-18T00:42:47.225780Z"
    }
   },
   "cell_type": "code",
   "source": "print(sampleStr.lower())",
   "id": "d727c6f0d7c9a2f3",
   "outputs": [
    {
     "name": "stdout",
     "output_type": "stream",
     "text": [
      "     test 오늘 점심 뭐 먹지?, 비가 오나요 menu : korean food     \n"
     ]
    }
   ],
   "execution_count": 47
  },
  {
   "metadata": {
    "ExecuteTime": {
     "end_time": "2024-07-18T00:42:47.231481Z",
     "start_time": "2024-07-18T00:42:47.229085Z"
    }
   },
   "cell_type": "code",
   "source": "print(sampleStr.capitalize())",
   "id": "cbec02fc89df12f5",
   "outputs": [
    {
     "name": "stdout",
     "output_type": "stream",
     "text": [
      "     test 오늘 점심 뭐 먹지?, 비가 오나요 menu : korean food     \n"
     ]
    }
   ],
   "execution_count": 48
  },
  {
   "metadata": {
    "ExecuteTime": {
     "end_time": "2024-07-18T00:42:47.238665Z",
     "start_time": "2024-07-18T00:42:47.235472Z"
    }
   },
   "cell_type": "code",
   "source": "print(sampleStr.count(\"o\"))",
   "id": "26fd77abf0fca6c6",
   "outputs": [
    {
     "name": "stdout",
     "output_type": "stream",
     "text": [
      "3\n"
     ]
    }
   ],
   "execution_count": 49
  },
  {
   "metadata": {
    "ExecuteTime": {
     "end_time": "2024-07-18T00:42:47.263723Z",
     "start_time": "2024-07-18T00:42:47.260718Z"
    }
   },
   "cell_type": "code",
   "source": "print(sampleStr.find(\"오\"))",
   "id": "5f5f23d5df1443e3",
   "outputs": [
    {
     "name": "stdout",
     "output_type": "stream",
     "text": [
      "10\n"
     ]
    }
   ],
   "execution_count": 50
  },
  {
   "metadata": {
    "ExecuteTime": {
     "end_time": "2024-07-18T00:42:47.268441Z",
     "start_time": "2024-07-18T00:42:47.265721Z"
    }
   },
   "cell_type": "code",
   "source": "print(sampleStr.rfind(\"오\"))",
   "id": "80762f6351573c51",
   "outputs": [
    {
     "name": "stdout",
     "output_type": "stream",
     "text": [
      "26\n"
     ]
    }
   ],
   "execution_count": 51
  },
  {
   "metadata": {
    "ExecuteTime": {
     "end_time": "2024-07-18T00:42:47.281731Z",
     "start_time": "2024-07-18T00:42:47.278513Z"
    }
   },
   "cell_type": "code",
   "source": "print(sampleStr.startswith(\"te\"))",
   "id": "50a214cb2eb300e5",
   "outputs": [
    {
     "name": "stdout",
     "output_type": "stream",
     "text": [
      "False\n"
     ]
    }
   ],
   "execution_count": 52
  },
  {
   "metadata": {
    "ExecuteTime": {
     "end_time": "2024-07-18T00:42:47.286237Z",
     "start_time": "2024-07-18T00:42:47.283731Z"
    }
   },
   "cell_type": "code",
   "source": "print(sampleStr.endswith(\"d\"))",
   "id": "cc7377a0cc8b0c34",
   "outputs": [
    {
     "name": "stdout",
     "output_type": "stream",
     "text": [
      "False\n"
     ]
    }
   ],
   "execution_count": 53
  },
  {
   "metadata": {
    "ExecuteTime": {
     "end_time": "2024-07-18T00:42:47.298074Z",
     "start_time": "2024-07-18T00:42:47.295314Z"
    }
   },
   "cell_type": "code",
   "source": "print(sampleStr.strip())",
   "id": "deb294f8b09b0425",
   "outputs": [
    {
     "name": "stdout",
     "output_type": "stream",
     "text": [
      "test 오늘 점심 뭐 먹지?, 비가 오나요 menu : Korean Food\n"
     ]
    }
   ],
   "execution_count": 54
  },
  {
   "metadata": {
    "ExecuteTime": {
     "end_time": "2024-07-18T00:43:16.068908Z",
     "start_time": "2024-07-18T00:43:16.065391Z"
    }
   },
   "cell_type": "code",
   "source": "print(sampleStr.lstrip())",
   "id": "659b8dcb74a00dae",
   "outputs": [
    {
     "name": "stdout",
     "output_type": "stream",
     "text": [
      "test 오늘 점심 뭐 먹지?, 비가 오나요 menu : Korean Food     \n"
     ]
    }
   ],
   "execution_count": 55
  },
  {
   "metadata": {
    "ExecuteTime": {
     "end_time": "2024-07-18T00:43:24.335965Z",
     "start_time": "2024-07-18T00:43:24.332443Z"
    }
   },
   "cell_type": "code",
   "source": "print(sampleStr.rstrip())",
   "id": "feea3a82f187ff7",
   "outputs": [
    {
     "name": "stdout",
     "output_type": "stream",
     "text": [
      "     test 오늘 점심 뭐 먹지?, 비가 오나요 menu : Korean Food\n"
     ]
    }
   ],
   "execution_count": 56
  },
  {
   "metadata": {
    "ExecuteTime": {
     "end_time": "2024-07-18T00:45:15.592773Z",
     "start_time": "2024-07-18T00:45:15.584731Z"
    }
   },
   "cell_type": "code",
   "source": "print(sampleStr.split())",
   "id": "f645495e73c3c4e4",
   "outputs": [
    {
     "name": "stdout",
     "output_type": "stream",
     "text": [
      "['test', '오늘', '점심', '뭐', '먹지?,', '비가', '오나요', 'menu', ':', 'Korean', 'Food']\n"
     ]
    }
   ],
   "execution_count": 57
  },
  {
   "metadata": {
    "ExecuteTime": {
     "end_time": "2024-07-18T00:45:35.607632Z",
     "start_time": "2024-07-18T00:45:35.598067Z"
    }
   },
   "cell_type": "code",
   "source": "print(sampleStr.isdigit())",
   "id": "a7ce0a70a4c0d051",
   "outputs": [
    {
     "name": "stdout",
     "output_type": "stream",
     "text": [
      "False\n"
     ]
    }
   ],
   "execution_count": 58
  },
  {
   "metadata": {
    "ExecuteTime": {
     "end_time": "2024-07-18T00:45:46.541535Z",
     "start_time": "2024-07-18T00:45:46.537437Z"
    }
   },
   "cell_type": "code",
   "source": "print(sampleStr.islower())",
   "id": "59a7587ed9558780",
   "outputs": [
    {
     "name": "stdout",
     "output_type": "stream",
     "text": [
      "False\n"
     ]
    }
   ],
   "execution_count": 59
  },
  {
   "metadata": {
    "ExecuteTime": {
     "end_time": "2024-07-18T00:46:00.516066Z",
     "start_time": "2024-07-18T00:46:00.502242Z"
    }
   },
   "cell_type": "code",
   "source": "print(sampleStr.isupper())",
   "id": "37103c5dd764298a",
   "outputs": [
    {
     "name": "stdout",
     "output_type": "stream",
     "text": [
      "False\n"
     ]
    }
   ],
   "execution_count": 60
  },
  {
   "metadata": {
    "ExecuteTime": {
     "end_time": "2024-07-18T01:12:10.451819Z",
     "start_time": "2024-07-18T01:12:10.447745Z"
    }
   },
   "cell_type": "code",
   "source": [
    " #ysterday 가사 파일 읽어서 메모리 상에서 작업 해보기\n",
    "f= open(\"yesterday.txt\",\"r\")\n",
    "#메모리상에 파일을 읽은 f 객체를 메서드 이용해서 문장 추출\n",
    "yesterday_lyric = f.readlines()\n",
    "#읽는 도구는 사용 후 메모리 반납\n",
    "f.close()\n",
    "print(yesterday_lyric)"
   ],
   "id": "fa467abbffc62a2f",
   "outputs": [
    {
     "name": "stdout",
     "output_type": "stream",
     "text": [
      "['Yesterday all my troubles seemed so far away\\n', \"Now it looks as though they're here to stay\\n\", 'Oh, I believe in yesterday\\n', \"Suddenly I'm not half the man I used to be\\n\", \"There's a shadow hanging over me\\n\", 'Oh, yesterday came suddenly.\\n', \"Why she had to go I don't know,\\n\", \"she wouldn't say.\\n\", 'I said something wrong\\n', 'now I long for yesterday.\\n', 'Yesterday love was such an easy game to play\\n', 'Now I need a place to hide away\\n', 'Oh, I believe in yesterday\\n', \"Why she had to go I don't know\\n\", \"she wouldn't say\\n\", 'I said something wrong\\n', 'now I long for yesterday\\n', 'Yesterday love was such an easy game to play\\n', 'Now I need a place to hide away\\n', 'Oh, I believe in yesterday']\n"
     ]
    }
   ],
   "execution_count": 61
  },
  {
   "metadata": {
    "ExecuteTime": {
     "end_time": "2024-07-18T01:16:02.641766Z",
     "start_time": "2024-07-18T01:16:02.636279Z"
    }
   },
   "cell_type": "code",
   "source": [
    "contents = \"\"\n",
    "for line in yesterday_lyric:\n",
    "    contents = contents+line.strip()+\"\\n\"\n",
    "print(f\"contents 하나의 문자열에 변수 모든 문장 넣기 : \\n{contents}\")\n",
    "    \n",
    "n_of_yesterday = contents.upper().count(\"YESTERDAY\")\n",
    "print(\"Number of a Word 'Yesterday'\",n_of_yesterday)"
   ],
   "id": "eba3d7bc1418dfed",
   "outputs": [
    {
     "name": "stdout",
     "output_type": "stream",
     "text": [
      "contents 하나의 문자열에 변수 모든 문장 넣기 : \n",
      "Yesterday all my troubles seemed so far away\n",
      "Now it looks as though they're here to stay\n",
      "Oh, I believe in yesterday\n",
      "Suddenly I'm not half the man I used to be\n",
      "There's a shadow hanging over me\n",
      "Oh, yesterday came suddenly.\n",
      "Why she had to go I don't know,\n",
      "she wouldn't say.\n",
      "I said something wrong\n",
      "now I long for yesterday.\n",
      "Yesterday love was such an easy game to play\n",
      "Now I need a place to hide away\n",
      "Oh, I believe in yesterday\n",
      "Why she had to go I don't know\n",
      "she wouldn't say\n",
      "I said something wrong\n",
      "now I long for yesterday\n",
      "Yesterday love was such an easy game to play\n",
      "Now I need a place to hide away\n",
      "Oh, I believe in yesterday\n",
      "\n",
      "Number of a Word 'Yesterday' 9\n"
     ]
    }
   ],
   "execution_count": 62
  },
  {
   "metadata": {
    "ExecuteTime": {
     "end_time": "2024-07-18T01:22:38.880135Z",
     "start_time": "2024-07-18T01:22:38.862364Z"
    }
   },
   "cell_type": "code",
   "source": [
    "#Counter 라는 모듈 도구를 이용해서, 해당 단어별 빈도 집계\n",
    "from collections import Counter\n",
    "print(f\"Counter(yesterday_lyric) 라이브러리 이용해서 단어별 빈도 갯수 구하기 \\n :\"  f\"{Counter(contents)}\")"
   ],
   "id": "ba09d4a29e49ad09",
   "outputs": [
    {
     "name": "stdout",
     "output_type": "stream",
     "text": [
      "Counter(yesterday_lyric) 라이브러리 이용해서 단어별 빈도 갯수 구하기 \n",
      " :Counter({' ': 106, 'e': 65, 'a': 45, 'o': 39, 's': 35, 'y': 31, 't': 30, 'd': 28, 'h': 27, 'n': 27, 'l': 20, '\\n': 20, 'r': 19, 'w': 17, 'i': 14, 'g': 13, 'I': 13, 'm': 10, 'u': 9, \"'\": 7, 'v': 6, 'b': 5, ',': 5, 'c': 5, 'f': 4, 'O': 4, 'p': 4, 'Y': 3, 'N': 3, 'k': 3, '.': 3, 'W': 2, 'S': 1, 'T': 1})\n"
     ]
    }
   ],
   "execution_count": 63
  },
  {
   "metadata": {
    "ExecuteTime": {
     "end_time": "2024-07-18T02:08:11.624778Z",
     "start_time": "2024-07-18T02:08:11.605353Z"
    }
   },
   "cell_type": "code",
   "source": [
    "text = '''\n",
    "\"Yesterday all my troubles seemed so far away\n",
    "Now it looks as though they're here to stay\n",
    "Oh, I believe in yesterday\n",
    "Suddenly I'm not half the man I used to be\n",
    "There's a shadow hanging over me\n",
    "Oh, yesterday came suddenly.\n",
    "Why she had to go I don't know,\n",
    "she wouldn't say.\n",
    "I said something wrong\n",
    "now I long for yesterday.\n",
    "Yesterday love was such an easy game to play\n",
    "Now I need a place to hide away\n",
    "Oh, I believe in yesterday\n",
    "Why she had to go I don't know\n",
    "she wouldn't say\n",
    "I said something wrong\n",
    "now I long for yesterday\n",
    "Yesterday love was such an easy game to play\n",
    "Now I need a place to hide away\n",
    "Oh, I believe in yesterday\"\n",
    "'''.lower().split()\n",
    "# .lower 소문자로 바꾸고 .split 나누기\n",
    "print(f\"text 결과값: {text}\")\n",
    "print(\"\\n\")\n",
    "print(f\"Counter모듈 이용출력: {Counter(text)}\")"
   ],
   "id": "cb93cfe347a5e593",
   "outputs": [
    {
     "name": "stdout",
     "output_type": "stream",
     "text": [
      "text 결과값: ['\"yesterday', 'all', 'my', 'troubles', 'seemed', 'so', 'far', 'away', 'now', 'it', 'looks', 'as', 'though', \"they're\", 'here', 'to', 'stay', 'oh,', 'i', 'believe', 'in', 'yesterday', 'suddenly', \"i'm\", 'not', 'half', 'the', 'man', 'i', 'used', 'to', 'be', \"there's\", 'a', 'shadow', 'hanging', 'over', 'me', 'oh,', 'yesterday', 'came', 'suddenly.', 'why', 'she', 'had', 'to', 'go', 'i', \"don't\", 'know,', 'she', \"wouldn't\", 'say.', 'i', 'said', 'something', 'wrong', 'now', 'i', 'long', 'for', 'yesterday.', 'yesterday', 'love', 'was', 'such', 'an', 'easy', 'game', 'to', 'play', 'now', 'i', 'need', 'a', 'place', 'to', 'hide', 'away', 'oh,', 'i', 'believe', 'in', 'yesterday', 'why', 'she', 'had', 'to', 'go', 'i', \"don't\", 'know', 'she', \"wouldn't\", 'say', 'i', 'said', 'something', 'wrong', 'now', 'i', 'long', 'for', 'yesterday', 'yesterday', 'love', 'was', 'such', 'an', 'easy', 'game', 'to', 'play', 'now', 'i', 'need', 'a', 'place', 'to', 'hide', 'away', 'oh,', 'i', 'believe', 'in', 'yesterday\"']\n",
      "\n",
      "\n",
      "Counter모듈 이용출력: Counter({'i': 12, 'to': 8, 'yesterday': 6, 'now': 5, 'oh,': 4, 'she': 4, 'away': 3, 'believe': 3, 'in': 3, 'a': 3, 'why': 2, 'had': 2, 'go': 2, \"don't\": 2, \"wouldn't\": 2, 'said': 2, 'something': 2, 'wrong': 2, 'long': 2, 'for': 2, 'love': 2, 'was': 2, 'such': 2, 'an': 2, 'easy': 2, 'game': 2, 'play': 2, 'need': 2, 'place': 2, 'hide': 2, '\"yesterday': 1, 'all': 1, 'my': 1, 'troubles': 1, 'seemed': 1, 'so': 1, 'far': 1, 'it': 1, 'looks': 1, 'as': 1, 'though': 1, \"they're\": 1, 'here': 1, 'stay': 1, 'suddenly': 1, \"i'm\": 1, 'not': 1, 'half': 1, 'the': 1, 'man': 1, 'used': 1, 'be': 1, \"there's\": 1, 'shadow': 1, 'hanging': 1, 'over': 1, 'me': 1, 'came': 1, 'suddenly.': 1, 'know,': 1, 'say.': 1, 'yesterday.': 1, 'know': 1, 'say': 1, 'yesterday\"': 1})\n"
     ]
    }
   ],
   "execution_count": 64
  },
  {
   "metadata": {},
   "cell_type": "code",
   "outputs": [],
   "execution_count": null,
   "source": "",
   "id": "11071a82350bf47a"
  }
 ],
 "metadata": {
  "kernelspec": {
   "display_name": "Python 3",
   "language": "python",
   "name": "python3"
  },
  "language_info": {
   "codemirror_mode": {
    "name": "ipython",
    "version": 2
   },
   "file_extension": ".py",
   "mimetype": "text/x-python",
   "name": "python",
   "nbconvert_exporter": "python",
   "pygments_lexer": "ipython2",
   "version": "2.7.6"
  }
 },
 "nbformat": 4,
 "nbformat_minor": 5
}
