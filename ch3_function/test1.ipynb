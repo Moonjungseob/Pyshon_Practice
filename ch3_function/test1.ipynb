{
 "cells": [
  {
   "cell_type": "code",
   "id": "initial_id",
   "metadata": {
    "collapsed": true,
    "ExecuteTime": {
     "end_time": "2024-07-17T06:33:25.818941Z",
     "start_time": "2024-07-17T06:33:25.813040Z"
    }
   },
   "source": [
    "def spam(eggs):\n",
    "    eggs.append(1)\n",
    "    print(f'spam(eggs)안에서 ham의 id 순서2 : {id(ham)}')\n",
    "    print(f'spam(eggs)안에서 eggs의 id 순서3 : {id(eggs)}')\n",
    "    eggs=[2,3]\n",
    "    print(f'spam(eggs)안에서 eggs의 id 순서4 : {id(eggs)}')\n",
    "\n",
    "ham=[0]\n",
    "print(f'ham의 id 순서1 : {id(ham)}')\n",
    "spam(ham)\n",
    "print(f'ham의 id : 순서5 {id(ham)}')\n",
    "print(ham)"
   ],
   "outputs": [
    {
     "name": "stdout",
     "output_type": "stream",
     "text": [
      "ham의 id 순서1 : 1995047473984\n",
      "spam(eggs)안에서 ham의 id 순서2 : 1995047473984\n",
      "spam(eggs)안에서 eggs의 id 순서3 : 1995047473984\n",
      "spam(eggs)안에서 eggs의 id 순서4 : 1995047472384\n",
      "ham의 id : 순서5 1995047473984\n",
      "[0, 1]\n"
     ]
    }
   ],
   "execution_count": 3
  },
  {
   "metadata": {
    "ExecuteTime": {
     "end_time": "2024-07-17T06:39:34.801330Z",
     "start_time": "2024-07-17T06:39:34.577343Z"
    }
   },
   "cell_type": "code",
   "source": [
    "def test(t):\n",
    "    print(x)\n",
    "    t=20\n",
    "    print(\"In Function:\", t)\n",
    "    \n",
    "x=10\n",
    "test(x)\n",
    "print(\"In Main:\", x)\n",
    "print(\"In Main:\", t)"
   ],
   "id": "be7071d1c1139d4",
   "outputs": [
    {
     "name": "stdout",
     "output_type": "stream",
     "text": [
      "10\n",
      "In Function: 20\n",
      "In Main: 10\n"
     ]
    },
    {
     "ename": "NameError",
     "evalue": "name 't' is not defined",
     "output_type": "error",
     "traceback": [
      "\u001B[1;31m---------------------------------------------------------------------------\u001B[0m",
      "\u001B[1;31mNameError\u001B[0m                                 Traceback (most recent call last)",
      "Cell \u001B[1;32mIn[4], line 9\u001B[0m\n\u001B[0;32m      7\u001B[0m test(x)\n\u001B[0;32m      8\u001B[0m \u001B[38;5;28mprint\u001B[39m(\u001B[38;5;124m\"\u001B[39m\u001B[38;5;124mIn Main:\u001B[39m\u001B[38;5;124m\"\u001B[39m, x)\n\u001B[1;32m----> 9\u001B[0m \u001B[38;5;28mprint\u001B[39m(\u001B[38;5;124m\"\u001B[39m\u001B[38;5;124mIn Main:\u001B[39m\u001B[38;5;124m\"\u001B[39m, \u001B[43mt\u001B[49m)\n",
      "\u001B[1;31mNameError\u001B[0m: name 't' is not defined"
     ]
    }
   ],
   "execution_count": 4
  },
  {
   "metadata": {
    "ExecuteTime": {
     "end_time": "2024-07-17T07:04:54.902492Z",
     "start_time": "2024-07-17T07:04:54.884646Z"
    }
   },
   "cell_type": "code",
   "source": [
    "def f():\n",
    "    s=\"I love London!\"\n",
    "    print(s)\n",
    "    \n",
    "s=\"I love Paris!\"\n",
    "f()\n",
    "print(s)"
   ],
   "id": "906061283fd3d891",
   "outputs": [
    {
     "name": "stdout",
     "output_type": "stream",
     "text": [
      "I love London!\n",
      "I love Paris!\n"
     ]
    }
   ],
   "execution_count": 5
  },
  {
   "metadata": {
    "ExecuteTime": {
     "end_time": "2024-07-17T07:05:17.083518Z",
     "start_time": "2024-07-17T07:05:17.068198Z"
    }
   },
   "cell_type": "code",
   "source": [
    "def f():\n",
    "    global s \n",
    "    s=\"I love London!\"\n",
    "    print(s)\n",
    "    \n",
    "s=\"I love Paris!\"\n",
    "f()\n",
    "print(s)"
   ],
   "id": "6bafd8a49086882",
   "outputs": [
    {
     "name": "stdout",
     "output_type": "stream",
     "text": [
      "I love London!\n",
      "I love London!\n"
     ]
    }
   ],
   "execution_count": 6
  },
  {
   "metadata": {
    "ExecuteTime": {
     "end_time": "2024-07-17T07:27:26.246963Z",
     "start_time": "2024-07-17T07:27:26.228272Z"
    }
   },
   "cell_type": "code",
   "source": [
    "def kwargs_test(one, two, *args, **kwargs):\n",
    "    print(one+ two + sum(args))\n",
    "    print(kwargs)\n",
    "    \n",
    "kwargs_test(3,4,5,6,7,8,9, first = 3, second=4, third = 5)"
   ],
   "id": "358c970bf685f7d6",
   "outputs": [
    {
     "name": "stdout",
     "output_type": "stream",
     "text": [
      "42\n",
      "{'first': 3, 'second': 4, 'third': 5}\n"
     ]
    }
   ],
   "execution_count": 9
  },
  {
   "metadata": {
    "ExecuteTime": {
     "end_time": "2024-07-17T07:32:33.300115Z",
     "start_time": "2024-07-17T07:32:33.281813Z"
    }
   },
   "cell_type": "code",
   "source": [
    "def sum2(a,b, *args):\n",
    "    return a + b + sum(args)\n",
    "print(f\"sum2(1,2,3,4,5)의 결과 : {sum2(1,2,3,4,5)}\")"
   ],
   "id": "d6ce62d170b4695b",
   "outputs": [
    {
     "name": "stdout",
     "output_type": "stream",
     "text": [
      "sum2(1,2,3,4,5)의 결과 : 15\n"
     ]
    }
   ],
   "execution_count": 1
  },
  {
   "metadata": {
    "ExecuteTime": {
     "end_time": "2024-07-17T07:35:32.943567Z",
     "start_time": "2024-07-17T07:35:32.939265Z"
    }
   },
   "cell_type": "code",
   "source": [
    "def testKargs(**args):\n",
    "    print(args)\n",
    "    print(f\"키 값에 해당하는 value 값 조회 : {args[\"a\"]}\")\n",
    "    print(f\"키 값에 해당하는 value 값 조회 : {args[\"b\"]}\")\n",
    "    print(f\"키 값에 해당하는 value 값 조회 : {args[\"c\"]}\")\n",
    "\n",
    "testKargs(a=1, b=2, c=3)\n",
    "          "
   ],
   "id": "c49ffba53c98d918",
   "outputs": [
    {
     "name": "stdout",
     "output_type": "stream",
     "text": [
      "{'a': 1, 'b': 2, 'c': 3}\n",
      "키 값에 해당하는 value 값 조회 : 1\n",
      "키 값에 해당하는 value 값 조회 : 2\n",
      "키 값에 해당하는 value 값 조회 : 3\n"
     ]
    }
   ],
   "execution_count": 2
  },
  {
   "metadata": {
    "ExecuteTime": {
     "end_time": "2024-07-17T07:38:59.000102Z",
     "start_time": "2024-07-17T07:38:58.989685Z"
    }
   },
   "cell_type": "code",
   "source": [
    "def A(*args):\n",
    "    x,y,*z=args\n",
    "    print(f\"z의 타입 : {type(z)}\")\n",
    "    return x,y,z\n",
    "\n",
    "print(f\"A(1,2)의 결과 : {A(1,2)}\")\n",
    "print(f\"A(1,2,3)의 결과 : {A(1,2,3)}\")\n",
    "print(f\"A(1,2,3,4,5)의 결과 : {A(1,2,3,4,5)}\")"
   ],
   "id": "fa06b52692c9c752",
   "outputs": [
    {
     "name": "stdout",
     "output_type": "stream",
     "text": [
      "z의 타입 : <class 'list'>\n",
      "A(1,2)의 결과 : (1, 2, [])\n",
      "z의 타입 : <class 'list'>\n",
      "A(1,2,3)의 결과 : (1, 2, [3])\n",
      "z의 타입 : <class 'list'>\n",
      "A(1,2,3,4,5)의 결과 : (1, 2, [3, 4, 5])\n"
     ]
    }
   ],
   "execution_count": 4
  },
  {
   "metadata": {},
   "cell_type": "code",
   "outputs": [],
   "execution_count": null,
   "source": "",
   "id": "74ad04f2c19ec1ed"
  }
 ],
 "metadata": {
  "kernelspec": {
   "display_name": "Python 3",
   "language": "python",
   "name": "python3"
  },
  "language_info": {
   "codemirror_mode": {
    "name": "ipython",
    "version": 2
   },
   "file_extension": ".py",
   "mimetype": "text/x-python",
   "name": "python",
   "nbconvert_exporter": "python",
   "pygments_lexer": "ipython2",
   "version": "2.7.6"
  }
 },
 "nbformat": 4,
 "nbformat_minor": 5
}
