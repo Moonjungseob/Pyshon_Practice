{
 "cells": [
  {
   "cell_type": "code",
   "id": "initial_id",
   "metadata": {
    "collapsed": true,
    "ExecuteTime": {
     "end_time": "2024-07-18T07:43:10.778529Z",
     "start_time": "2024-07-18T07:43:10.735142Z"
    }
   },
   "source": [
    "import pymysql\n",
    "\n",
    "conn = pymysql.connect( #pymysql 라이브러리 사용 DB연결\n",
    "    host='127.0.0.1', \n",
    "    user='webuser2', \n",
    "    password='webuser2',\n",
    "    db='pydb', \n",
    "    charset='utf8')\n",
    "cur = conn.cursor()"
   ],
   "outputs": [],
   "execution_count": 1
  },
  {
   "metadata": {
    "ExecuteTime": {
     "end_time": "2024-07-18T07:43:10.798815Z",
     "start_time": "2024-07-18T07:43:10.778529Z"
    }
   },
   "cell_type": "code",
   "source": [
    "#select 예제\n",
    "conn = pymysql.connect( #pymysql 라이브러리 사용 DB연결\n",
    "    host='127.0.0.1', \n",
    "    user='webuser2', \n",
    "    password='webuser2',\n",
    "    db='pydb', \n",
    "    charset='utf8')\n",
    "cur = conn.cursor()\n",
    "cur.execute(\"SELECT * FROM book\")\n",
    "\n",
    "print(\"ID    title    writer         \")\n",
    "print(\"--------------------------------------------------------\")\n",
    "\n",
    "while (True):\n",
    "    row = cur.fetchone()\n",
    "    if row == None:\n",
    "        break\n",
    "    data1 = row[0]\n",
    "    data2 = row[1]\n",
    "    data3 = row[2]\n",
    "    \n",
    "    print(\"%5s   %15s   %15s \\n\" % (data1, data2, data3))\n",
    "    # print(f\" ID: {data1}, title: {data2}, writer: {data3}\")\n",
    "\n",
    "conn.close()"
   ],
   "id": "194a04988de5125f",
   "outputs": [
    {
     "name": "stdout",
     "output_type": "stream",
     "text": [
      "ID    title    writer         \n",
      "--------------------------------------------------------\n",
      "    1             안드로이드                한빛 \n",
      "\n",
      "    2             안드로이드                한빛 \n",
      "\n",
      "    3             안드로이드                한빛 \n",
      "\n",
      "    4         Oracle DB                한빛 \n",
      "\n",
      "    5            Spring                영딘 \n",
      "\n",
      "    6             안드로이드                한빛 \n",
      "\n",
      "    7             안드로이드                한빛 \n",
      "\n",
      "    8         Oracle DB                한빛 \n",
      "\n",
      "    9            Spring                영딘 \n",
      "\n"
     ]
    }
   ],
   "execution_count": 2
  },
  {
   "metadata": {
    "ExecuteTime": {
     "end_time": "2024-07-18T07:50:00.660848Z",
     "start_time": "2024-07-18T07:50:00.647280Z"
    }
   },
   "cell_type": "code",
   "source": [
    "#insert 예제\n",
    "def insert_book(data):\n",
    "    conn=pymysql.connect(host='localhost',user='webuser2',password='webuser2', db='pydb', charset='utf8')\n",
    "    cursor=conn.cursor()\n",
    "    sql=\"insert into book(title,pub,pages,author) values(%s,%s,%s,%s)\"\n",
    "    cursor.execute(sql,data)\n",
    "    conn.commit()\n",
    "    conn.close()\n",
    "    \n",
    "data=('안드로이드','한빛',650,'홍길동')\n",
    "insert_book(data)\n",
    "\n",
    "def insert_book_list(datas):\n",
    "    conn=pymysql.connect(host='localhost',user='webuser2',password='webuser2',db='pydb',charset='utf8')\n",
    "    cursor=conn.cursor()\n",
    "    sql=\"insert into book(title,pub,pages,author) values(%s,%s,%s,%s)\"\n",
    "    cursor.executemany(sql,datas)\n",
    "    conn.commit()\n",
    "    conn.close()\n",
    "datas=[('안드로이드','한빛',650,'홍길동'),\n",
    " ('Oracle DB','한빛',650,'홍길동'),\n",
    " ('Spring','영딘',650,'홍길동')]\n",
    "insert_book_list(datas)"
   ],
   "id": "807bf4fe4f53aa39",
   "outputs": [],
   "execution_count": 14
  },
  {
   "metadata": {
    "ExecuteTime": {
     "end_time": "2024-07-18T07:50:03.843989Z",
     "start_time": "2024-07-18T07:50:03.823692Z"
    }
   },
   "cell_type": "code",
   "source": [
    "def select_all():\n",
    "    conn=pymysql.connect(host='localhost',\n",
    "                         user='webuser2',password='webuser2', db='pydb',charset='utf8')\n",
    "    cursor=conn.cursor()\n",
    "    sql=\"select * from book\"\n",
    "    cursor.execute(sql)\n",
    "    for book in cursor:\n",
    "        print(book)\n",
    "    conn.close()\n",
    "        \n",
    "select_all()"
   ],
   "id": "ee47f4c1aa68bbd3",
   "outputs": [
    {
     "name": "stdout",
     "output_type": "stream",
     "text": [
      "(6, '안드로이드', '한빛', 650, '홍길동')\n",
      "(7, '안드로이드', '한빛', 650, '홍길동')\n",
      "(8, 'Oracle DB', '한빛', 650, '홍길동')\n",
      "(9, 'Spring', '영딘', 650, '홍길동')\n",
      "(10, '안드로이드', '한빛', 650, '홍길동')\n",
      "(11, '안드로이드', '한빛', 650, '홍길동')\n",
      "(12, 'Oracle DB', '한빛', 650, '홍길동')\n",
      "(13, 'Spring', '영딘', 650, '홍길동')\n",
      "(14, '안드로이드', '한빛', 650, '홍길동')\n",
      "(15, '안드로이드', '한빛', 650, '홍길동')\n",
      "(16, 'Oracle DB', '한빛', 650, '홍길동')\n",
      "(17, 'Spring', '영딘', 650, '홍길동')\n"
     ]
    }
   ],
   "execution_count": 15
  },
  {
   "metadata": {
    "ExecuteTime": {
     "end_time": "2024-07-18T07:50:13.608644Z",
     "start_time": "2024-07-18T07:50:13.591173Z"
    }
   },
   "cell_type": "code",
   "source": [
    "def update_book(data):\n",
    "    conn=pymysql.connect(host='localhost'\n",
    "                         ,user='webuser2',password='webuser2',db='pydb',charset='utf8')\n",
    "    cursor=conn.cursor()\n",
    "    sql=\"update book set title=%s, pub=%s, pages=%s, author=%s where id=%s\"\n",
    "    cursor.execute(sql,data)\n",
    "    conn.commit()\n",
    "    conn.close()\n",
    "data=('Java', '생능','700','홍길동',15)\n",
    "update_book(data)\n",
    "select_all()"
   ],
   "id": "c9e571e98caed3d3",
   "outputs": [
    {
     "name": "stdout",
     "output_type": "stream",
     "text": [
      "(6, '안드로이드', '한빛', 650, '홍길동')\n",
      "(7, '안드로이드', '한빛', 650, '홍길동')\n",
      "(8, 'Oracle DB', '한빛', 650, '홍길동')\n",
      "(9, 'Spring', '영딘', 650, '홍길동')\n",
      "(10, '안드로이드', '한빛', 650, '홍길동')\n",
      "(11, '안드로이드', '한빛', 650, '홍길동')\n",
      "(12, 'Oracle DB', '한빛', 650, '홍길동')\n",
      "(13, 'Spring', '영딘', 650, '홍길동')\n",
      "(14, '안드로이드', '한빛', 650, '홍길동')\n",
      "(15, 'Java', '생능', 700, '홍길동')\n",
      "(16, 'Oracle DB', '한빛', 650, '홍길동')\n",
      "(17, 'Spring', '영딘', 650, '홍길동')\n"
     ]
    }
   ],
   "execution_count": 16
  },
  {
   "metadata": {
    "ExecuteTime": {
     "end_time": "2024-07-18T07:50:27.177917Z",
     "start_time": "2024-07-18T07:50:27.160066Z"
    }
   },
   "cell_type": "code",
   "source": [
    "def delete_book(data):\n",
    "    conn=pymysql.connect(host='localhost'\n",
    "                         ,user='webuser2',password='webuser2',db='pydb',charset='utf8')\n",
    "    cursor=conn.cursor()\n",
    "    sql=\"delete from book where id=%s\"\n",
    "    #cursor.execute(sql,data)\n",
    "    cursor.executemany(sql,data)\n",
    "    conn.commit()\n",
    "    conn.close()\n",
    "    \n",
    "#delete_book(4)\n",
    "delete_book([6,7,8,9,10])\n",
    "select_all()\n"
   ],
   "id": "b7d18a9df34ec7fb",
   "outputs": [
    {
     "name": "stdout",
     "output_type": "stream",
     "text": [
      "(11, '안드로이드', '한빛', 650, '홍길동')\n",
      "(12, 'Oracle DB', '한빛', 650, '홍길동')\n",
      "(13, 'Spring', '영딘', 650, '홍길동')\n",
      "(14, '안드로이드', '한빛', 650, '홍길동')\n",
      "(15, 'Java', '생능', 700, '홍길동')\n",
      "(16, 'Oracle DB', '한빛', 650, '홍길동')\n",
      "(17, 'Spring', '영딘', 650, '홍길동')\n"
     ]
    }
   ],
   "execution_count": 17
  },
  {
   "metadata": {},
   "cell_type": "code",
   "outputs": [],
   "execution_count": null,
   "source": "",
   "id": "5e97f5572604ff47"
  }
 ],
 "metadata": {
  "kernelspec": {
   "display_name": "Python 3",
   "language": "python",
   "name": "python3"
  },
  "language_info": {
   "codemirror_mode": {
    "name": "ipython",
    "version": 2
   },
   "file_extension": ".py",
   "mimetype": "text/x-python",
   "name": "python",
   "nbconvert_exporter": "python",
   "pygments_lexer": "ipython2",
   "version": "2.7.6"
  }
 },
 "nbformat": 4,
 "nbformat_minor": 5
}
