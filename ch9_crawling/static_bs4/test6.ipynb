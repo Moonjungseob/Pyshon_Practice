{
 "cells": [
  {
   "cell_type": "code",
   "id": "initial_id",
   "metadata": {
    "collapsed": true,
    "ExecuteTime": {
     "end_time": "2024-07-22T06:21:13.111788Z",
     "start_time": "2024-07-22T06:21:12.841284Z"
    }
   },
   "source": [
    "import bs4\n",
    "import urllib.request\n",
    "\n",
    "nateUrl = \"http://www.cgv.co.kr/movies/?lt=1&ft=0\"\n",
    "htmlObject = urllib.request.urlopen(nateUrl)\n",
    "webPage = htmlObject.read()\n",
    "bsObject = bs4.BeautifulSoup(webPage, 'html.parser')\n",
    "\n",
    "tag_list = bsObject.findAll('div', {'class': 'sect-movie-chart'})\n",
    "price_tag = tag_list.find('strong', {'class': 'percent'})\n",
    "price = price_tag.text.strip() if price_tag else '정보 없음'\n",
    "print(price)\n",
    "\n"
   ],
   "outputs": [
    {
     "ename": "AttributeError",
     "evalue": "ResultSet object has no attribute 'find'. You're probably treating a list of elements like a single element. Did you call find_all() when you meant to call find()?",
     "output_type": "error",
     "traceback": [
      "\u001B[1;31m---------------------------------------------------------------------------\u001B[0m",
      "\u001B[1;31mAttributeError\u001B[0m                            Traceback (most recent call last)",
      "Cell \u001B[1;32mIn[3], line 10\u001B[0m\n\u001B[0;32m      7\u001B[0m bsObject \u001B[38;5;241m=\u001B[39m bs4\u001B[38;5;241m.\u001B[39mBeautifulSoup(webPage, \u001B[38;5;124m'\u001B[39m\u001B[38;5;124mhtml.parser\u001B[39m\u001B[38;5;124m'\u001B[39m)\n\u001B[0;32m      9\u001B[0m tag_list \u001B[38;5;241m=\u001B[39m bsObject\u001B[38;5;241m.\u001B[39mfindAll(\u001B[38;5;124m'\u001B[39m\u001B[38;5;124mdiv\u001B[39m\u001B[38;5;124m'\u001B[39m, {\u001B[38;5;124m'\u001B[39m\u001B[38;5;124mclass\u001B[39m\u001B[38;5;124m'\u001B[39m: \u001B[38;5;124m'\u001B[39m\u001B[38;5;124msect-movie-chart\u001B[39m\u001B[38;5;124m'\u001B[39m})\n\u001B[1;32m---> 10\u001B[0m price_tag \u001B[38;5;241m=\u001B[39m \u001B[43mtag_list\u001B[49m\u001B[38;5;241;43m.\u001B[39;49m\u001B[43mfind\u001B[49m(\u001B[38;5;124m'\u001B[39m\u001B[38;5;124mstrong\u001B[39m\u001B[38;5;124m'\u001B[39m, {\u001B[38;5;124m'\u001B[39m\u001B[38;5;124mclass\u001B[39m\u001B[38;5;124m'\u001B[39m: \u001B[38;5;124m'\u001B[39m\u001B[38;5;124mpercent\u001B[39m\u001B[38;5;124m'\u001B[39m})\n\u001B[0;32m     11\u001B[0m price \u001B[38;5;241m=\u001B[39m price_tag\u001B[38;5;241m.\u001B[39mtext\u001B[38;5;241m.\u001B[39mstrip() \u001B[38;5;28;01mif\u001B[39;00m price_tag \u001B[38;5;28;01melse\u001B[39;00m \u001B[38;5;124m'\u001B[39m\u001B[38;5;124m정보 없음\u001B[39m\u001B[38;5;124m'\u001B[39m\n\u001B[0;32m     12\u001B[0m \u001B[38;5;28mprint\u001B[39m(price)\n",
      "File \u001B[1;32m~\\PyTestBusanIt501\\pythonProject3\\.venv\\Lib\\site-packages\\bs4\\element.py:2433\u001B[0m, in \u001B[0;36mResultSet.__getattr__\u001B[1;34m(self, key)\u001B[0m\n\u001B[0;32m   2431\u001B[0m \u001B[38;5;28;01mdef\u001B[39;00m \u001B[38;5;21m__getattr__\u001B[39m(\u001B[38;5;28mself\u001B[39m, key):\n\u001B[0;32m   2432\u001B[0m \u001B[38;5;250m    \u001B[39m\u001B[38;5;124;03m\"\"\"Raise a helpful exception to explain a common code fix.\"\"\"\u001B[39;00m\n\u001B[1;32m-> 2433\u001B[0m     \u001B[38;5;28;01mraise\u001B[39;00m \u001B[38;5;167;01mAttributeError\u001B[39;00m(\n\u001B[0;32m   2434\u001B[0m         \u001B[38;5;124m\"\u001B[39m\u001B[38;5;124mResultSet object has no attribute \u001B[39m\u001B[38;5;124m'\u001B[39m\u001B[38;5;132;01m%s\u001B[39;00m\u001B[38;5;124m'\u001B[39m\u001B[38;5;124m. You\u001B[39m\u001B[38;5;124m'\u001B[39m\u001B[38;5;124mre probably treating a list of elements like a single element. Did you call find_all() when you meant to call find()?\u001B[39m\u001B[38;5;124m\"\u001B[39m \u001B[38;5;241m%\u001B[39m key\n\u001B[0;32m   2435\u001B[0m     )\n",
      "\u001B[1;31mAttributeError\u001B[0m: ResultSet object has no attribute 'find'. You're probably treating a list of elements like a single element. Did you call find_all() when you meant to call find()?"
     ]
    }
   ],
   "execution_count": 3
  },
  {
   "metadata": {},
   "cell_type": "code",
   "outputs": [],
   "execution_count": null,
   "source": "",
   "id": "3c373ab246547a0f"
  }
 ],
 "metadata": {
  "kernelspec": {
   "display_name": "Python 3",
   "language": "python",
   "name": "python3"
  },
  "language_info": {
   "codemirror_mode": {
    "name": "ipython",
    "version": 2
   },
   "file_extension": ".py",
   "mimetype": "text/x-python",
   "name": "python",
   "nbconvert_exporter": "python",
   "pygments_lexer": "ipython2",
   "version": "2.7.6"
  }
 },
 "nbformat": 4,
 "nbformat_minor": 5
}
