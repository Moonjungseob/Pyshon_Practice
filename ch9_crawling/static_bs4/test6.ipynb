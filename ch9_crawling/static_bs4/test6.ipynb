{
 "cells": [
  {
   "cell_type": "code",
   "id": "initial_id",
   "metadata": {
    "collapsed": true,
    "ExecuteTime": {
     "end_time": "2024-07-19T08:01:51.159897Z",
     "start_time": "2024-07-19T08:01:49.951615Z"
    }
   },
   "source": [
    "import bs4\n",
    "import urllib.request\n",
    "\n",
    "nateUrl = \"https://www.gmarket.co.kr/n/list?category=200001105&gate_id=3A2E9AF9-CE52-48F6-B415-B662749F2C73\"\n",
    "htmlObject = urllib.request.urlopen(nateUrl)\n",
    "webPage = htmlObject.read()\n",
    "bsObject = bs4.BeautifulSoup(webPage, 'html.parser')\n",
    "tag = bsObject.find('div', {'class': \"box__item-container\"})\n",
    "\n",
    "                  \n",
    "print(tag)"
   ],
   "outputs": [
    {
     "name": "stdout",
     "output_type": "stream",
     "text": [
      "<div class=\"box__item-container\"><div class=\"box__image\"><a class=\"link__item\" data-montelena-acode=\"\" data-montelena-asn=\"6\" data-montelena-atsclickurl=\"https://ats.gmarket.co.kr/cpc/clk?r=4C7F6E10E468B579072C1988AE779D92AE83DDC72B6795BC189D0357A7A62A01D43B6D12C26A1C271C9081413EFCD9964E8CE64135F28230D27CDED9879A7DB9CC44350AA9350E935A501C4D024FCE29CA1A81E3F445FD8D6AFFC70BBB5875F6B5A0C7462295E9697CC4940DC33C08056FE7F6E2897E8DFE9CA323B5802D476474392CEB2138BF883A9404A83E1FDCBBCFDC738073DA79C75DF5897D9D345578FC106FD6DB22E88DED1E442904E599AD850F7E26741D53F47B48AD47F04A4FA124FDC6A4199965C581AD51F0287E3A1CA4C2294C9181FBB9795719F0EDBB9298FF1979B355A34AB0CC2B4ACEF504C8C1F8AECFD8D926F7B80D40EB642CEF8B46866D066340DF0C98151A9BC229195847F2EE00C002EF5812BADC6CD0DF07D3DF757CDFD8441D127D69F23AC3BB3D59D6A430D880F58B0894313609B2E78FD599CD9F768496350AB11B8E9C61E2DF3583&amp;ref=&amp;adTier=1200101004&amp;dispRank=1\" data-montelena-delivery_fee_yn=\"n\" data-montelena-device_type=\"100\" data-montelena-goodscode=\"3275513918\" data-montelena-keyword=\"200001105\" data-montelena-page_type=\"300\" data-montelena-request_id=\"90896c1449874349bf6606aa3cea8fae\" data-montelena-sort_type=\"7\" data-montelena-tracking_id=\"e149019p106012r104048m124411d17s60034i1\" data-montelena-view_type=\"l\" href=\"http://item.gmarket.co.kr/Item?goodscode=3275513918&amp;buyboxtype=ad\" rel=\"noreferrer\" target=\"_blank\"><img alt=\"마이크로닉스 WARP WK3 마닉축 유무선 블루투스 RGB 텐키리스 기계식 게이밍 키보드\" class=\"image__item\" decoding=\"async\" loading=\"lazy\" src=\"//gdimg.gmarket.co.kr/3275513918/still/280?ver=1721343809\"/></a></div><div class=\"box__information\"><div class=\"box__information-major\"><div class=\"box__item-title\"><span class=\"text__item-title text__item-title--ellipsis\"><a class=\"link__item\" data-montelena-acode=\"\" data-montelena-asn=\"6\" data-montelena-atsclickurl=\"https://ats.gmarket.co.kr/cpc/clk?r=4C7F6E10E468B579072C1988AE779D92AE83DDC72B6795BC189D0357A7A62A01D43B6D12C26A1C271C9081413EFCD9964E8CE64135F28230D27CDED9879A7DB9CC44350AA9350E935A501C4D024FCE29CA1A81E3F445FD8D6AFFC70BBB5875F6B5A0C7462295E9697CC4940DC33C08056FE7F6E2897E8DFE9CA323B5802D476474392CEB2138BF883A9404A83E1FDCBBCFDC738073DA79C75DF5897D9D345578FC106FD6DB22E88DED1E442904E599AD850F7E26741D53F47B48AD47F04A4FA124FDC6A4199965C581AD51F0287E3A1CA4C2294C9181FBB9795719F0EDBB9298FF1979B355A34AB0CC2B4ACEF504C8C1F8AECFD8D926F7B80D40EB642CEF8B46866D066340DF0C98151A9BC229195847F2EE00C002EF5812BADC6CD0DF07D3DF757CDFD8441D127D69F23AC3BB3D59D6A430D880F58B0894313609B2E78FD599CD9F768496350AB11B8E9C61E2DF3583&amp;ref=&amp;adTier=1200101004&amp;dispRank=1\" data-montelena-delivery_fee_yn=\"n\" data-montelena-device_type=\"100\" data-montelena-goodscode=\"3275513918\" data-montelena-keyword=\"200001105\" data-montelena-page_type=\"300\" data-montelena-request_id=\"90896c1449874349bf6606aa3cea8fae\" data-montelena-sort_type=\"7\" data-montelena-tracking_id=\"e149019p106012r104048m124411d17s60034i1\" data-montelena-view_type=\"l\" href=\"http://item.gmarket.co.kr/Item?goodscode=3275513918&amp;buyboxtype=ad\" rel=\"noreferrer\" target=\"_blank\"><span class=\"box__brand\"><span class=\"text__brand\">마이크로닉스</span></span><span class=\"for-a11y\">상품명 </span><span class=\"text__item\" title=\"마이크로닉스 WARP WK3 마닉축 유무선 블루투스 RGB 텐키리스 기계식 게이밍 키보드\">마이크로닉스 WARP WK3 마닉축 유무선 블루투스 RGB 텐키리스 기계식 게이밍 키보드</span></a></span></div><div class=\"box__item-price\"><div class=\"box__price-original\"><span class=\"for-a11y\">원가 </span><span class=\"text text__value\">62,390</span><span class=\"text text__unit\">원</span></div><div class=\"box__price-seller\"><div class=\"box__discount\"><span class=\"for-a11y\">할인률</span><span class=\"text text__value\">3%</span></div><span class=\"for-a11y\">판매가</span><strong class=\"text text__value\">59,900</strong><span class=\"text text__unit\">원</span><div class=\"box__information-tags\"><ul class=\"list__tags\"><li class=\"list-item__tag\"><span class=\"text__tag\"><img alt=\"무료배송\" src=\"//pics.gmarket.co.kr/pc/single/kr/snowwhite/common/icon_deliveyfree_2x.png\"/></span></li></ul></div></div></div><div class=\"box__item-arrival\"><div class=\"box__information-tags\"><ul class=\"list__tags\"><li class=\"list-item__tag list-item__tag--today\"><img alt=\"오늘출발\" height=\"16\" src=\"https://pics.gmarket.co.kr/mobile/single/kr/snowwhite/component/icon_today_3x.png\"/><span class=\"text__tag\" style=\"font-size:12px;font-weight:bold;color:#067DFD\">오늘출발</span></li></ul></div></div></div><div class=\"box__information-benefittags\"><span class=\"box__tag box__tag-card\">카드 2%</span></div><div class=\"box__information-score\"><ul class=\"list__score\"><li class=\"list-item list-item__awards\"><div class=\"box__seller-awards\"><span class=\"image__awards-points\" style=\"width:88%\"><span class=\"for-a11y\">만족도 88% 입니다.</span></span><span class=\"image__bg-star\"></span></div></li><li class=\"list-item list-item__feedback-count\"><span class=\"for-a11y\">상품평</span><span class=\"text\">(<!-- -->12<!-- -->)</span><span class=\"for-a11y\">건</span></li><li class=\"list-item list-item__pay-count\"><span class=\"text\">구매<!-- --> <!-- -->77</span><span class=\"for-a11y\">건</span></li></ul></div><div class=\"box__information_seller\"><a class=\"link__shop\" data-montelena-acode=\"\" data-montelena-delivery_fee_yn=\"n\" data-montelena-device_type=\"100\" data-montelena-goodscode=\"3275513918\" data-montelena-page_type=\"300\" data-montelena-request_id=\"90896c1449874349bf6606aa3cea8fae\" data-montelena-sell_cust_no=\"158765603\" data-montelena-sort_type=\"7\" data-montelena-tracking_id=\"e149019p106012r104048m124411d17s60034i1\" data-montelena-view_type=\"l\" href=\"http://minishop.gmarket.co.kr/sicnpshop\" rel=\"noreferrer\" target=\"_blank\" title=\"SICNPSHOP 미니샵으로 이동합니다\"><span class=\"for-a11y\">판매자</span><span class=\"text__seller\">SICNPSHOP</span></a><div class=\"box__seller-grade\"><span class=\"for-a11y\">판매자평가정보</span><ul class=\"list__seller-information\"><li class=\"list-item\"><img alt=\"파워딜러\" class=\"image__grade-icon\" src=\"https://pics.gmarket.co.kr/pc/single/kr/snowwhite/common/bestseller-medal-power-icon_2x.png\"/><span class=\"text\">파워딜러</span></li></ul></div></div></div></div>\n"
     ]
    }
   ],
   "execution_count": 18
  }
 ],
 "metadata": {
  "kernelspec": {
   "display_name": "Python 3",
   "language": "python",
   "name": "python3"
  },
  "language_info": {
   "codemirror_mode": {
    "name": "ipython",
    "version": 2
   },
   "file_extension": ".py",
   "mimetype": "text/x-python",
   "name": "python",
   "nbconvert_exporter": "python",
   "pygments_lexer": "ipython2",
   "version": "2.7.6"
  }
 },
 "nbformat": 4,
 "nbformat_minor": 5
}
