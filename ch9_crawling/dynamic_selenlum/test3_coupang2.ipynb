{
 "cells": [
  {
   "cell_type": "code",
   "id": "initial_id",
   "metadata": {
    "collapsed": true,
    "ExecuteTime": {
     "end_time": "2024-07-22T06:49:26.117731Z",
     "start_time": "2024-07-22T06:49:26.105604Z"
    }
   },
   "source": [
    "from selenium import webdriver\n",
    "from selenium.webdriver.common.keys import Keys\n",
    "from selenium.webdriver.common.by import By\n",
    "import time\n",
    "import urllib.request\n",
    "import os\n",
    "from selenium.webdriver.chrome.options import Options"
   ],
   "outputs": [],
   "execution_count": 3
  },
  {
   "metadata": {
    "ExecuteTime": {
     "end_time": "2024-07-22T06:50:41.469349Z",
     "start_time": "2024-07-22T06:49:26.117731Z"
    }
   },
   "cell_type": "code",
   "source": [
    "chrome_options = Options()\n",
    "chrome_options.add_argument('--disable-blink-features=AutomationControlled')\n",
    "\n",
    "# Initialize the WebDriver with options\n",
    "driver = webdriver.Chrome(options=chrome_options)\n",
    "search_words = [\"정처기\"]\n",
    "\n",
    "# Iterate over search terms\n",
    "for search_word in search_words:\n",
    "    # Create a folder for the search term if it doesn't exist\n",
    "    if not os.path.isdir(search_word):\n",
    "        os.mkdir(search_word)\n",
    "\n",
    "    # Iterate through pages\n",
    "    for page in range(1, 6):  # Example: process first 5 pages\n",
    "        # Construct the URL with the current search term and page number\n",
    "      \n",
    "        #해당 url 키워드 검색으로 들어가면 차단, 그래서, 미리 검색어 적어두고 접근 하면, 1페이지 상품 사진 다운로드 가능. \n",
    "        # 2페이지 접근시 다시 차단. \n",
    "        \n",
    "        url = f\"https://www.coupang.com/np/search?component=&q={search_word}&channel=user&page={page}\"\n",
    "        driver.implicitly_wait(3)\n",
    "        driver.get(url)\n",
    "        time.sleep(3)  # Wait for the page to load\n",
    "\n",
    "        # Find image elements\n",
    "        images = driver.find_elements(By.CSS_SELECTOR, \"dt.image\")\n",
    "        print(f\"Found {len(images)} images on page {page} for search term '{search_word}'\")\n",
    "\n",
    "        # Download images\n",
    "        count = 1\n",
    "        for image in images:\n",
    "            if count > 5:  # Limit to 5 images per page for this example\n",
    "                break\n",
    "            try:\n",
    "                img_url = image.find_element(By.CSS_SELECTOR, \"img.search-product-wrap-img\").get_attribute(\"src\")\n",
    "                print(f\"Image URL: {img_url}\")\n",
    "\n",
    "                # Download the image\n",
    "                urllib.request.urlretrieve(\n",
    "                    img_url,\n",
    "                    os.path.join(search_word, f\"{search_word}.{page}.{count}.jpg\")\n",
    "                )\n",
    "                print(f\"Downloaded {search_word}.{page}.{count}.jpg\")\n",
    "                count += 1\n",
    "            except Exception as e:\n",
    "                print(f\"Error downloading image: {e}\")\n",
    "            time.sleep(2)\n",
    "# Close the WebDriver\n",
    "driver.quit()\n"
   ],
   "id": "a1812d9de885921e",
   "outputs": [
    {
     "name": "stdout",
     "output_type": "stream",
     "text": [
      "Found 36 images on page 1 for search term '정처기'\n",
      "Image URL: https://thumbnail7.coupangcdn.com/thumbnails/remote/230x230ex/image/vendor_inventory/2374/799e356d0622f84b9fe4234d5a2145e17c4838cccc467a7b3817d926668b.png\n",
      "Downloaded 정처기.1.1.jpg\n",
      "Image URL: https://thumbnail6.coupangcdn.com/thumbnails/remote/230x230ex/image/rs_quotation_api/6xw7b8d7/0fd2cbb8deed418bb181397d10662da1.jpg\n",
      "Downloaded 정처기.1.2.jpg\n",
      "Image URL: https://thumbnail10.coupangcdn.com/thumbnails/remote/230x230ex/image/retail/images/2024/04/03/10/9/1f018e87-342e-4d37-942b-47e074f41cc9.jpg\n",
      "Downloaded 정처기.1.3.jpg\n",
      "Image URL: https://thumbnail7.coupangcdn.com/thumbnails/remote/230x230ex/image/retail/images/2023/12/08/10/0/27150b70-0795-4f23-92d8-888a1cf16ea5.jpg\n",
      "Downloaded 정처기.1.4.jpg\n",
      "Image URL: https://thumbnail8.coupangcdn.com/thumbnails/remote/230x230ex/image/retail/images/2024/06/20/14/4/8c780250-786f-4aaf-86bc-2cab3447c17c.jpg\n",
      "Downloaded 정처기.1.5.jpg\n",
      "Found 36 images on page 2 for search term '정처기'\n",
      "Image URL: https://thumbnail7.coupangcdn.com/thumbnails/remote/230x230ex/image/vendor_inventory/2374/799e356d0622f84b9fe4234d5a2145e17c4838cccc467a7b3817d926668b.png\n",
      "Downloaded 정처기.2.1.jpg\n",
      "Image URL: https://thumbnail10.coupangcdn.com/thumbnails/remote/230x230ex/image/vendor_inventory/63f7/ba75478e256502763b090e4896a6da91251450cf0fc1a214f05bcf4bdf82.png\n",
      "Downloaded 정처기.2.2.jpg\n",
      "Image URL: https://thumbnail8.coupangcdn.com/thumbnails/remote/230x230ex/image/retail/images/2024/06/20/14/4/8c780250-786f-4aaf-86bc-2cab3447c17c.jpg\n",
      "Downloaded 정처기.2.3.jpg\n",
      "Image URL: https://thumbnail6.coupangcdn.com/thumbnails/remote/230x230ex/image/vendor_inventory/1d25/5d37bae250ed5cca2f191663d1a6a0676514a4838394ab125db05f0e56eb.jpg\n",
      "Downloaded 정처기.2.4.jpg\n",
      "Image URL: https://thumbnail8.coupangcdn.com/thumbnails/remote/230x230ex/image/vendor_inventory/17e3/a0c85a278a78d74f34eee39b843542112f00d3e1dd344e6732b20e4f2f81.jpg\n",
      "Downloaded 정처기.2.5.jpg\n",
      "Found 36 images on page 3 for search term '정처기'\n",
      "Image URL: https://thumbnail7.coupangcdn.com/thumbnails/remote/230x230ex/image/vendor_inventory/2374/799e356d0622f84b9fe4234d5a2145e17c4838cccc467a7b3817d926668b.png\n",
      "Downloaded 정처기.3.1.jpg\n",
      "Image URL: https://thumbnail10.coupangcdn.com/thumbnails/remote/230x230ex/image/vendor_inventory/ab9b/4a9b5f33ef69f654e10e69c7ed98bae224f60d3bbfd615984530255470ab.png\n",
      "Downloaded 정처기.3.2.jpg\n",
      "Image URL: https://thumbnail8.coupangcdn.com/thumbnails/remote/230x230ex/image/retail/images/2024/06/20/14/4/8c780250-786f-4aaf-86bc-2cab3447c17c.jpg\n",
      "Downloaded 정처기.3.3.jpg\n",
      "Image URL: https://thumbnail6.coupangcdn.com/thumbnails/remote/230x230ex/image/retail/images/5059932488675186-514663ce-a797-432b-99af-02b0037ff287.jpg\n",
      "Downloaded 정처기.3.4.jpg\n",
      "Image URL: https://thumbnail9.coupangcdn.com/thumbnails/remote/230x230ex/image/vendor_inventory/fe10/aaabb7d22cf1fb9663127124f3ee86ea8004138b35e1e47999a62000fc9e.png\n",
      "Downloaded 정처기.3.5.jpg\n",
      "Found 11 images on page 4 for search term '정처기'\n",
      "Image URL: https://thumbnail7.coupangcdn.com/thumbnails/remote/230x230ex/image/vendor_inventory/2374/799e356d0622f84b9fe4234d5a2145e17c4838cccc467a7b3817d926668b.png\n",
      "Downloaded 정처기.4.1.jpg\n",
      "Image URL: https://thumbnail10.coupangcdn.com/thumbnails/remote/230x230ex/image/retail/images/2023/04/25/18/0/313449cb-3833-4d1f-b503-6b038a8798ee.jpg\n",
      "Downloaded 정처기.4.2.jpg\n",
      "Image URL: https://thumbnail8.coupangcdn.com/thumbnails/remote/230x230ex/image/retail/images/2024/06/20/14/4/8c780250-786f-4aaf-86bc-2cab3447c17c.jpg\n",
      "Downloaded 정처기.4.3.jpg\n",
      "Image URL: https://thumbnail6.coupangcdn.com/thumbnails/remote/230x230ex/image/vendor_inventory/4f2e/d6d628c34db638f4d1e8c7c5db347d63645cae9520715176162988648f44.jpg\n",
      "Downloaded 정처기.4.4.jpg\n",
      "Image URL: https://thumbnail10.coupangcdn.com/thumbnails/remote/230x230ex/image/vendor_inventory/45c2/4e5c2ff9cd0b9575721bfa67dd836a0c463fe199e83079b36ebeffade53d.png\n",
      "Downloaded 정처기.4.5.jpg\n",
      "Found 0 images on page 5 for search term '정처기'\n"
     ]
    }
   ],
   "execution_count": 4
  },
  {
   "metadata": {
    "ExecuteTime": {
     "end_time": "2024-07-22T06:50:41.479938Z",
     "start_time": "2024-07-22T06:50:41.469349Z"
    }
   },
   "cell_type": "code",
   "source": "",
   "id": "f5dd04dd1342c36e",
   "outputs": [],
   "execution_count": 4
  }
 ],
 "metadata": {
  "kernelspec": {
   "display_name": "Python 3",
   "language": "python",
   "name": "python3"
  },
  "language_info": {
   "codemirror_mode": {
    "name": "ipython",
    "version": 2
   },
   "file_extension": ".py",
   "mimetype": "text/x-python",
   "name": "python",
   "nbconvert_exporter": "python",
   "pygments_lexer": "ipython2",
   "version": "2.7.6"
  }
 },
 "nbformat": 4,
 "nbformat_minor": 5
}
