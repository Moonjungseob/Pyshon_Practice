{
 "cells": [
  {
   "cell_type": "code",
   "id": "initial_id",
   "metadata": {
    "collapsed": true,
    "ExecuteTime": {
     "end_time": "2024-07-22T00:48:18.623638Z",
     "start_time": "2024-07-22T00:48:18.606061Z"
    }
   },
   "source": [
    "from time import time\n",
    "\n",
    "from selenium.webdriver import Keys, ActionChains\n",
    "from selenium.webdriver.common.actions.action_builder import ActionBuilder\n",
    "from selenium.webdriver.common.by import By\n",
    "\n",
    "\n",
    "def test_pauses(driver):\n",
    "    driver.get('https://selenium.dev/selenium/web/mouse_interaction.html')\n",
    "\n",
    "    start = time()\n",
    "\n",
    "    clickable = driver.find_element(By.ID, \"clickable\")\n",
    "    ActionChains(driver)\\\n",
    "        .move_to_element(clickable)\\\n",
    "        .pause(1)\\\n",
    "        .click_and_hold()\\\n",
    "        .pause(1)\\\n",
    "        .send_keys(\"abc\")\\\n",
    "        .perform()\n",
    "\n",
    "    duration = time() - start\n",
    "    assert duration > 2\n",
    "    assert duration < 3\n",
    "\n",
    "\n",
    "def test_releases_all(driver):\n",
    "    driver.get('https://selenium.dev/selenium/web/mouse_interaction.html')\n",
    "\n",
    "    clickable = driver.find_element(By.ID, \"clickable\")\n",
    "    ActionChains(driver)\\\n",
    "        .click_and_hold(clickable)\\\n",
    "        .key_down(Keys.SHIFT)\\\n",
    "        .key_down(\"a\")\\\n",
    "        .perform()\n",
    "\n",
    "    ActionBuilder(driver).clear_actions()\n",
    "\n",
    "    ActionChains(driver).key_down('a').perform()\n",
    "\n",
    "    assert clickable.get_attribute('value')[0] == \"A\"\n",
    "    assert clickable.get_attribute('value')[1] == \"a\""
   ],
   "outputs": [],
   "execution_count": 3
  },
  {
   "metadata": {},
   "cell_type": "code",
   "outputs": [],
   "execution_count": null,
   "source": "",
   "id": "a4daff7fa8c37beb"
  }
 ],
 "metadata": {
  "kernelspec": {
   "display_name": "Python 3",
   "language": "python",
   "name": "python3"
  },
  "language_info": {
   "codemirror_mode": {
    "name": "ipython",
    "version": 2
   },
   "file_extension": ".py",
   "mimetype": "text/x-python",
   "name": "python",
   "nbconvert_exporter": "python",
   "pygments_lexer": "ipython2",
   "version": "2.7.6"
  }
 },
 "nbformat": 4,
 "nbformat_minor": 5
}
