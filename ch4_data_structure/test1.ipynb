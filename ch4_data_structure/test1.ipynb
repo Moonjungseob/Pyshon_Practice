{
 "cells": [
  {
   "cell_type": "code",
   "id": "initial_id",
   "metadata": {
    "collapsed": true,
    "ExecuteTime": {
     "end_time": "2024-07-18T02:43:37.792497Z",
     "start_time": "2024-07-18T02:43:37.786230Z"
    }
   },
   "source": [
    "today_lunch_menu ={\"menu1\" : \"된장찌개\", \"menu2\":\"도시락\", \"menu3\":\"참깨라면\"}\n",
    "print(today_lunch_menu)"
   ],
   "outputs": [
    {
     "name": "stdout",
     "output_type": "stream",
     "text": [
      "{'menu1': '된장찌개', 'menu2': '도시락', 'menu3': '참깨라면'}\n"
     ]
    }
   ],
   "execution_count": 24
  },
  {
   "metadata": {
    "ExecuteTime": {
     "end_time": "2024-07-18T02:43:37.797672Z",
     "start_time": "2024-07-18T02:43:37.792497Z"
    }
   },
   "cell_type": "code",
   "source": [
    "for k, v in today_lunch_menu.items():\n",
    "    print(f\"k : {k}, v : {v}\")"
   ],
   "id": "dc37980f9b6068b7",
   "outputs": [
    {
     "name": "stdout",
     "output_type": "stream",
     "text": [
      "k : menu1, v : 된장찌개\n",
      "k : menu2, v : 도시락\n",
      "k : menu3, v : 참깨라면\n"
     ]
    }
   ],
   "execution_count": 25
  },
  {
   "metadata": {
    "ExecuteTime": {
     "end_time": "2024-07-18T02:43:44.686905Z",
     "start_time": "2024-07-18T02:43:44.668323Z"
    }
   },
   "cell_type": "code",
   "source": [
    "'도시락' in today_lunch_menu.values()\n",
    "\n",
    "from _collections import deque\n",
    "deque_list = deque()\n",
    "for i in range(5):\n",
    "    deque_list.appendleft(i)\n",
    "print(deque_list)"
   ],
   "id": "c19defabf8dd1601",
   "outputs": [
    {
     "name": "stdout",
     "output_type": "stream",
     "text": [
      "deque([4, 3, 2, 1, 0])\n"
     ]
    }
   ],
   "execution_count": 28
  },
  {
   "metadata": {
    "ExecuteTime": {
     "end_time": "2024-07-18T02:43:58.198221Z",
     "start_time": "2024-07-18T02:43:58.193913Z"
    }
   },
   "cell_type": "code",
   "source": [
    "deque_list.rotate(1)\n",
    "print(deque_list)"
   ],
   "id": "3d0582e1ada6ea8f",
   "outputs": [
    {
     "name": "stdout",
     "output_type": "stream",
     "text": [
      "deque([0, 4, 3, 2, 1])\n"
     ]
    }
   ],
   "execution_count": 34
  },
  {
   "metadata": {
    "ExecuteTime": {
     "end_time": "2024-07-18T03:04:43.153407Z",
     "start_time": "2024-07-18T03:04:43.147696Z"
    }
   },
   "cell_type": "code",
   "source": [
    "# 정렬 해보기. \n",
    "# OrderdDict , 순서있는 딕션너리 이용하기. \n",
    "def sort_by_key(t):\n",
    "  return t[0]\n",
    "\n",
    "from collections import OrderedDict\n",
    "d= OrderedDict()\n",
    "d[\"x\"] = 1\n",
    "d[\"b\"] = 2\n",
    "d[\"d\"] = 4\n",
    "d[\"c\"] = 3\n",
    "d[\"e\"] = 5\n",
    "\n",
    "# key 정렬해보기. \n",
    "for k,v in OrderedDict(sorted(d.items(), key=sort_by_key)).items():\n",
    "  print(f\"key : {k}, value : {v}\")"
   ],
   "id": "dfa2efb48cf6d766",
   "outputs": [
    {
     "name": "stdout",
     "output_type": "stream",
     "text": [
      "key : b, value : 2\n",
      "key : c, value : 3\n",
      "key : d, value : 4\n",
      "key : e, value : 5\n",
      "key : x, value : 1\n"
     ]
    }
   ],
   "execution_count": 35
  },
  {
   "metadata": {},
   "cell_type": "code",
   "outputs": [],
   "execution_count": null,
   "source": "",
   "id": "a668651c440076af"
  }
 ],
 "metadata": {
  "kernelspec": {
   "display_name": "Python 3",
   "language": "python",
   "name": "python3"
  },
  "language_info": {
   "codemirror_mode": {
    "name": "ipython",
    "version": 2
   },
   "file_extension": ".py",
   "mimetype": "text/x-python",
   "name": "python",
   "nbconvert_exporter": "python",
   "pygments_lexer": "ipython2",
   "version": "2.7.6"
  }
 },
 "nbformat": 4,
 "nbformat_minor": 5
}
