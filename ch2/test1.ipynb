{
 "cells": [
  {
   "cell_type": "code",
   "id": "initial_id",
   "metadata": {
    "collapsed": true,
    "ExecuteTime": {
     "end_time": "2024-07-17T00:48:06.265050Z",
     "start_time": "2024-07-17T00:48:06.249993Z"
    }
   },
   "source": "print(\"오늘 점심 뭐 먹죠?\")",
   "outputs": [
    {
     "name": "stdout",
     "output_type": "stream",
     "text": [
      "오늘 점심 뭐 먹죠?\n"
     ]
    }
   ],
   "execution_count": 36
  },
  {
   "metadata": {
    "ExecuteTime": {
     "end_time": "2024-07-17T01:39:13.484316Z",
     "start_time": "2024-07-17T01:39:13.478524Z"
    }
   },
   "cell_type": "code",
   "source": [
    "lunchMenu=\"돈까스\"\n",
    "price = 8000\n",
    "print(lunchMenu)\n",
    "print(price)\n",
    "print(type(lunchMenu))\n",
    "print(type(price))\n",
    "priceFloat = float(price)\n",
    "priceStr = str(price)\n",
    "print(priceStr)\n",
    "print(type(priceFloat))\n",
    "print(type(priceStr))\n",
    "varA = 1\n",
    "print(id(varA))"
   ],
   "id": "34ff289b72ffbc12",
   "outputs": [
    {
     "name": "stdout",
     "output_type": "stream",
     "text": [
      "돈까스\n",
      "8000\n",
      "<class 'str'>\n",
      "<class 'int'>\n",
      "8000\n",
      "<class 'float'>\n",
      "<class 'str'>\n",
      "140722471893432\n"
     ]
    }
   ],
   "execution_count": 39
  },
  {
   "metadata": {
    "ExecuteTime": {
     "end_time": "2024-07-17T01:43:30.560259Z",
     "start_time": "2024-07-17T01:43:30.550821Z"
    }
   },
   "cell_type": "code",
   "source": "print(\"오늘 먹을 점심 메뉴 : %s, 가격 : %d원\" %(lunchMenu, price))   ",
   "id": "a5217b32f6bb92a6",
   "outputs": [
    {
     "name": "stdout",
     "output_type": "stream",
     "text": [
      "오늘 먹을 점심 메뉴 : 돈까스, 가격 : 8000원\n"
     ]
    }
   ],
   "execution_count": 40
  },
  {
   "metadata": {
    "ExecuteTime": {
     "end_time": "2024-07-17T01:45:41.935831Z",
     "start_time": "2024-07-17T01:45:41.924032Z"
    }
   },
   "cell_type": "code",
   "source": "print(f\"오늘 점심 먹을 메뉴 : {lunchMenu}, 가격:{price}원\")",
   "id": "5f5448f003fc34fb",
   "outputs": [
    {
     "name": "stdout",
     "output_type": "stream",
     "text": [
      "오늘 점심 먹을 메뉴 : 돈까스, 가격:8000원\n"
     ]
    }
   ],
   "execution_count": 41
  },
  {
   "metadata": {
    "ExecuteTime": {
     "end_time": "2024-07-17T01:47:49.139521Z",
     "start_time": "2024-07-17T01:47:42.159727Z"
    }
   },
   "cell_type": "code",
   "source": [
    "todayLunchMenuInput = input(\"오늘 먹고 싶은 메뉴 입력 해주세요.\")\n",
    "print(f\"오늘 점심 먹을 메뉴 : {todayLunchMenuInput}!!!\") "
   ],
   "id": "dcc90be46af1adbf",
   "outputs": [
    {
     "name": "stdout",
     "output_type": "stream",
     "text": [
      "오늘 점심 먹을 메뉴 : 컵라면과 김밥!!!\n"
     ]
    }
   ],
   "execution_count": 42
  },
  {
   "metadata": {
    "ExecuteTime": {
     "end_time": "2024-07-17T02:24:42.830846Z",
     "start_time": "2024-07-17T02:24:42.814733Z"
    }
   },
   "cell_type": "code",
   "source": "todayMenuList = [\"0돈까스-8\", \"1모밀-7\", \"2도시락-6\", \"3참깨라면-5\", \"4제육볶음-4\", \"5국수-3\", \"6된장찌개-2\",\"7국밥-1\"]",
   "id": "9225df655eb2347e",
   "outputs": [],
   "execution_count": 5
  },
  {
   "metadata": {
    "ExecuteTime": {
     "end_time": "2024-07-17T02:24:44.795019Z",
     "start_time": "2024-07-17T02:24:44.788229Z"
    }
   },
   "cell_type": "code",
   "source": "print(todayMenuList[:])",
   "id": "e814bc88513cc6cf",
   "outputs": [
    {
     "name": "stdout",
     "output_type": "stream",
     "text": [
      "['0돈까스-8', '1모밀-7', '2도시락-6', '3참깨라면-5', '4제육볶음-4', '5국수-3', '6된장찌개-2', '7국밥-1']\n"
     ]
    }
   ],
   "execution_count": 6
  },
  {
   "metadata": {
    "ExecuteTime": {
     "end_time": "2024-07-17T02:24:46.229385Z",
     "start_time": "2024-07-17T02:24:46.224146Z"
    }
   },
   "cell_type": "code",
   "source": "print(todayMenuList[0:2])",
   "id": "acebfb7db8c17a64",
   "outputs": [
    {
     "name": "stdout",
     "output_type": "stream",
     "text": [
      "['0돈까스-8', '1모밀-7']\n"
     ]
    }
   ],
   "execution_count": 7
  },
  {
   "metadata": {
    "ExecuteTime": {
     "end_time": "2024-07-17T02:24:47.383823Z",
     "start_time": "2024-07-17T02:24:47.365971Z"
    }
   },
   "cell_type": "code",
   "source": "print(todayMenuList[6:-1])",
   "id": "9f54dc76daf8519",
   "outputs": [
    {
     "name": "stdout",
     "output_type": "stream",
     "text": [
      "['6된장찌개-2']\n"
     ]
    }
   ],
   "execution_count": 8
  },
  {
   "metadata": {
    "ExecuteTime": {
     "end_time": "2024-07-17T02:25:53.075830Z",
     "start_time": "2024-07-17T02:25:53.070723Z"
    }
   },
   "cell_type": "code",
   "source": [
    "print(todayMenuList[4:])\n",
    "print(todayMenuList[:4])"
   ],
   "id": "b483a7b67398b4fd",
   "outputs": [
    {
     "name": "stdout",
     "output_type": "stream",
     "text": [
      "['4제육볶음-4', '5국수-3', '6된장찌개-2', '7국밥-1']\n",
      "['0돈까스-8', '1모밀-7', '2도시락-6', '3참깨라면-5']\n"
     ]
    }
   ],
   "execution_count": 9
  },
  {
   "metadata": {
    "ExecuteTime": {
     "end_time": "2024-07-17T02:29:10.119039Z",
     "start_time": "2024-07-17T02:29:10.113429Z"
    }
   },
   "cell_type": "code",
   "source": "print(todayMenuList[1:8:2])",
   "id": "b13eaf5f60e26c27",
   "outputs": [
    {
     "name": "stdout",
     "output_type": "stream",
     "text": [
      "['1모밀-7', '3참깨라면-5', '5국수-3', '7국밥-1']\n"
     ]
    }
   ],
   "execution_count": 10
  },
  {
   "metadata": {
    "ExecuteTime": {
     "end_time": "2024-07-17T02:29:25.739908Z",
     "start_time": "2024-07-17T02:29:25.735012Z"
    }
   },
   "cell_type": "code",
   "source": "print(todayMenuList[0:8:2])",
   "id": "6c6c1f0e1dd814de",
   "outputs": [
    {
     "name": "stdout",
     "output_type": "stream",
     "text": [
      "['0돈까스-8', '2도시락-6', '4제육볶음-4', '6된장찌개-2']\n"
     ]
    }
   ],
   "execution_count": 11
  },
  {
   "metadata": {
    "ExecuteTime": {
     "end_time": "2024-07-17T02:30:08.108092Z",
     "start_time": "2024-07-17T02:30:08.102975Z"
    }
   },
   "cell_type": "code",
   "source": "print(todayMenuList[::-1])",
   "id": "460b48742dcff8c1",
   "outputs": [
    {
     "name": "stdout",
     "output_type": "stream",
     "text": [
      "['7국밥-1', '6된장찌개-2', '5국수-3', '4제육볶음-4', '3참깨라면-5', '2도시락-6', '1모밀-7', '0돈까스-8']\n"
     ]
    }
   ],
   "execution_count": 12
  },
  {
   "metadata": {
    "ExecuteTime": {
     "end_time": "2024-07-17T02:36:29.030727Z",
     "start_time": "2024-07-17T02:36:29.015207Z"
    }
   },
   "cell_type": "code",
   "source": [
    "menuResultIn = \"3참깨라면-5\" in todayMenuList\n",
    "print(menuResultIn)"
   ],
   "id": "ecb22b43b03ae1bb",
   "outputs": [
    {
     "name": "stdout",
     "output_type": "stream",
     "text": [
      "True\n"
     ]
    }
   ],
   "execution_count": 17
  },
  {
   "metadata": {
    "ExecuteTime": {
     "end_time": "2024-07-17T02:37:25.053680Z",
     "start_time": "2024-07-17T02:37:25.038213Z"
    }
   },
   "cell_type": "code",
   "source": "todayMenuList.append(\"8라면\")",
   "id": "b513dbda4ba9830e",
   "outputs": [],
   "execution_count": 18
  },
  {
   "metadata": {
    "ExecuteTime": {
     "end_time": "2024-07-17T02:37:37.722970Z",
     "start_time": "2024-07-17T02:37:37.717757Z"
    }
   },
   "cell_type": "code",
   "source": "print(todayMenuList)",
   "id": "3ff53be1dcc0cbc4",
   "outputs": [
    {
     "name": "stdout",
     "output_type": "stream",
     "text": [
      "['0돈까스-8', '1모밀-7', '2도시락-6', '3참깨라면-5', '4제육볶음-4', '5국수-3', '6된장찌개-2', '7국밥-1', '8라면']\n"
     ]
    }
   ],
   "execution_count": 19
  },
  {
   "metadata": {
    "ExecuteTime": {
     "end_time": "2024-07-17T02:38:51.766728Z",
     "start_time": "2024-07-17T02:38:51.762120Z"
    }
   },
   "cell_type": "code",
   "source": [
    "tomorrowMenuList = [\"치킨\", \"서브웨이\", \"빵\"]\n",
    "todayMenuList.extend(tomorrowMenuList)\n",
    "print(todayMenuList)"
   ],
   "id": "1c9be0ca897b37c8",
   "outputs": [
    {
     "name": "stdout",
     "output_type": "stream",
     "text": [
      "['0돈까스-8', '1모밀-7', '2도시락-6', '3참깨라면-5', '4제육볶음-4', '5국수-3', '6된장찌개-2', '7국밥-1', '8라면', '치킨', '서브웨이', '빵']\n"
     ]
    }
   ],
   "execution_count": 20
  },
  {
   "metadata": {
    "ExecuteTime": {
     "end_time": "2024-07-17T02:40:33.732022Z",
     "start_time": "2024-07-17T02:40:33.727248Z"
    }
   },
   "cell_type": "code",
   "source": [
    "addMenuList = [\"초밥\", \"스테이크\", \"피자\"]\n",
    "todayMenuList.insert(1,addMenuList)\n",
    "print(todayMenuList)"
   ],
   "id": "39a5fbac6aac6366",
   "outputs": [
    {
     "name": "stdout",
     "output_type": "stream",
     "text": [
      "['0돈까스-8', ['초밥', '스테이크', '피자'], '1모밀-7', '2도시락-6', '3참깨라면-5', '4제육볶음-4', '5국수-3', '6된장찌개-2', '7국밥-1', '8라면', '치킨', '서브웨이', '빵']\n"
     ]
    }
   ],
   "execution_count": 21
  },
  {
   "metadata": {
    "ExecuteTime": {
     "end_time": "2024-07-17T02:41:30.857486Z",
     "start_time": "2024-07-17T02:41:30.846284Z"
    }
   },
   "cell_type": "code",
   "source": "print(todayMenuList[1][2])",
   "id": "a18f1464196f0a0b",
   "outputs": [
    {
     "name": "stdout",
     "output_type": "stream",
     "text": [
      "피자\n"
     ]
    }
   ],
   "execution_count": 22
  },
  {
   "metadata": {
    "ExecuteTime": {
     "end_time": "2024-07-17T02:41:54.239814Z",
     "start_time": "2024-07-17T02:41:54.221797Z"
    }
   },
   "cell_type": "code",
   "source": "print(todayMenuList[1][:])",
   "id": "18669e4c21ad0cb9",
   "outputs": [
    {
     "name": "stdout",
     "output_type": "stream",
     "text": [
      "['초밥', '스테이크', '피자']\n"
     ]
    }
   ],
   "execution_count": 23
  },
  {
   "metadata": {
    "ExecuteTime": {
     "end_time": "2024-07-17T02:42:04.836544Z",
     "start_time": "2024-07-17T02:42:04.822882Z"
    }
   },
   "cell_type": "code",
   "source": "print(todayMenuList[1][::-1])",
   "id": "c95f970f9191a4c5",
   "outputs": [
    {
     "name": "stdout",
     "output_type": "stream",
     "text": [
      "['피자', '스테이크', '초밥']\n"
     ]
    }
   ],
   "execution_count": 24
  },
  {
   "metadata": {
    "ExecuteTime": {
     "end_time": "2024-07-17T02:44:02.405850Z",
     "start_time": "2024-07-17T02:44:02.398459Z"
    }
   },
   "cell_type": "code",
   "source": [
    "todayMenuList.remove(\"치킨\")\n",
    "print(todayMenuList)"
   ],
   "id": "92e4815d1ce12105",
   "outputs": [
    {
     "name": "stdout",
     "output_type": "stream",
     "text": [
      "['0돈까스-8', ['초밥', '스테이크', '피자'], '1모밀-7', '2도시락-6', '3참깨라면-5', '4제육볶음-4', '5국수-3', '6된장찌개-2', '7국밥-1', '8라면', '서브웨이', '빵']\n"
     ]
    }
   ],
   "execution_count": 26
  },
  {
   "metadata": {
    "ExecuteTime": {
     "end_time": "2024-07-17T02:46:10.073080Z",
     "start_time": "2024-07-17T02:46:10.066172Z"
    }
   },
   "cell_type": "code",
   "source": "todayMenuList.append('치킨3')",
   "id": "ecd29673c88dec0d",
   "outputs": [],
   "execution_count": 33
  },
  {
   "metadata": {
    "ExecuteTime": {
     "end_time": "2024-07-17T02:46:46.703337Z",
     "start_time": "2024-07-17T02:46:46.690761Z"
    }
   },
   "cell_type": "code",
   "source": "print(todayMenuList)",
   "id": "e93f05678ea6774b",
   "outputs": [
    {
     "name": "stdout",
     "output_type": "stream",
     "text": [
      "['0돈까스-8', ['초밥', '스테이크', '피자'], '1모밀-7', '2도시락-6', '3참깨라면-5', '4제육볶음-4', '5국수-3', '6된장찌개-2', '7국밥-1', '8라면', '서브웨이', '빵', '치킨', '치킨', '치킨2', '치킨3']\n"
     ]
    }
   ],
   "execution_count": 38
  },
  {
   "metadata": {
    "ExecuteTime": {
     "end_time": "2024-07-17T02:46:45.813722Z",
     "start_time": "2024-07-17T02:46:45.808046Z"
    }
   },
   "cell_type": "code",
   "source": "todayMenuList.remove('치킨')",
   "id": "5ec5c382671faa25",
   "outputs": [],
   "execution_count": 37
  },
  {
   "metadata": {
    "ExecuteTime": {
     "end_time": "2024-07-17T03:05:07.129159Z",
     "start_time": "2024-07-17T03:05:07.112174Z"
    }
   },
   "cell_type": "code",
   "source": [
    "todayMenuList[-3] = \"면\"\n",
    "print(todayMenuList)"
   ],
   "id": "1516854ac5bac8a8",
   "outputs": [
    {
     "name": "stdout",
     "output_type": "stream",
     "text": [
      "['0돈까스-8', ['초밥', '스테이크', '피자'], '1모밀-7', '2도시락-6', '3참깨라면-5', '4제육볶음-4', '5국수-3', '6된장찌개-2', '7국밥-1', '8라면', '서브웨이', '빵', '치킨', '면', '치킨2', '치킨3']\n"
     ]
    }
   ],
   "execution_count": 39
  },
  {
   "metadata": {
    "ExecuteTime": {
     "end_time": "2024-07-17T03:05:24.001968Z",
     "start_time": "2024-07-17T03:05:23.997448Z"
    }
   },
   "cell_type": "code",
   "source": [
    "del todayMenuList[-3]\n",
    "print(todayMenuList)"
   ],
   "id": "ce7ad0f3e363a146",
   "outputs": [
    {
     "name": "stdout",
     "output_type": "stream",
     "text": [
      "['0돈까스-8', ['초밥', '스테이크', '피자'], '1모밀-7', '2도시락-6', '3참깨라면-5', '4제육볶음-4', '5국수-3', '6된장찌개-2', '7국밥-1', '8라면', '서브웨이', '빵', '치킨', '치킨2', '치킨3']\n"
     ]
    }
   ],
   "execution_count": 40
  },
  {
   "metadata": {
    "ExecuteTime": {
     "end_time": "2024-07-17T03:08:49.957041Z",
     "start_time": "2024-07-17T03:08:49.942659Z"
    }
   },
   "cell_type": "code",
   "source": [
    "todayDinnerMenu = [\"치킨\", \"국밥\", \"볶음밥\", \"삼계탕\"]\n",
    "todayDinnerMenu.append(\"라멘\")\n",
    "print(todayDinnerMenu)"
   ],
   "id": "15fe41ec4ff4c1fa",
   "outputs": [
    {
     "name": "stdout",
     "output_type": "stream",
     "text": [
      "['치킨', '국밥', '볶음밥', '삼계탕', '라멘']\n"
     ]
    }
   ],
   "execution_count": 41
  },
  {
   "metadata": {
    "ExecuteTime": {
     "end_time": "2024-07-17T03:09:40.064741Z",
     "start_time": "2024-07-17T03:09:40.053816Z"
    }
   },
   "cell_type": "code",
   "source": [
    "FindMenu = \"치킨\" in todayDinnerMenu\n",
    "print(FindMenu)"
   ],
   "id": "f00664792d896ad8",
   "outputs": [
    {
     "name": "stdout",
     "output_type": "stream",
     "text": [
      "True\n"
     ]
    }
   ],
   "execution_count": 42
  },
  {
   "metadata": {
    "ExecuteTime": {
     "end_time": "2024-07-17T03:10:11.121901Z",
     "start_time": "2024-07-17T03:10:11.110002Z"
    }
   },
   "cell_type": "code",
   "source": [
    "todayDinnerMenu.insert(3,\"오니기리\")\n",
    "print(todayDinnerMenu)"
   ],
   "id": "3d6241d31346962d",
   "outputs": [
    {
     "name": "stdout",
     "output_type": "stream",
     "text": [
      "['치킨', '국밥', '볶음밥', '오니기리', '삼계탕', '라멘']\n"
     ]
    }
   ],
   "execution_count": 43
  },
  {
   "metadata": {
    "ExecuteTime": {
     "end_time": "2024-07-17T03:11:23.845877Z",
     "start_time": "2024-07-17T03:11:23.834103Z"
    }
   },
   "cell_type": "code",
   "source": [
    "addDinnerMenu = [\"마라탕\", \"회\", \"제육볶음\"]\n",
    "todayDinnerMenu.extend(addDinnerMenu)\n",
    "print(todayDinnerMenu)"
   ],
   "id": "b13f5362a14c8de2",
   "outputs": [
    {
     "name": "stdout",
     "output_type": "stream",
     "text": [
      "['치킨', '국밥', '볶음밥', '오니기리', '삼계탕', '라멘', '마라탕', '회', '제육볶음']\n"
     ]
    }
   ],
   "execution_count": 44
  },
  {
   "metadata": {
    "ExecuteTime": {
     "end_time": "2024-07-17T03:12:22.490500Z",
     "start_time": "2024-07-17T03:12:22.477333Z"
    }
   },
   "cell_type": "code",
   "source": [
    "todayDinnerMenu.insert(4,addMenuList)\n",
    "print(todayDinnerMenu)"
   ],
   "id": "df4c5cee98cba912",
   "outputs": [
    {
     "name": "stdout",
     "output_type": "stream",
     "text": [
      "['치킨', '국밥', '볶음밥', '오니기리', ['초밥', '스테이크', '피자'], '삼계탕', '라멘', '마라탕', '회', '제육볶음']\n"
     ]
    }
   ],
   "execution_count": 45
  },
  {
   "metadata": {
    "ExecuteTime": {
     "end_time": "2024-07-17T03:12:48.930163Z",
     "start_time": "2024-07-17T03:12:48.925061Z"
    }
   },
   "cell_type": "code",
   "source": [
    "todayDinnerMenu.remove(\"마라탕\")\n",
    "print(todayDinnerMenu)"
   ],
   "id": "c4c4cd687b535b17",
   "outputs": [
    {
     "name": "stdout",
     "output_type": "stream",
     "text": [
      "['치킨', '국밥', '볶음밥', '오니기리', ['초밥', '스테이크', '피자'], '삼계탕', '라멘', '회', '제육볶음']\n"
     ]
    }
   ],
   "execution_count": 46
  },
  {
   "metadata": {
    "ExecuteTime": {
     "end_time": "2024-07-17T03:13:05.722681Z",
     "start_time": "2024-07-17T03:13:05.717813Z"
    }
   },
   "cell_type": "code",
   "source": [
    "del todayDinnerMenu[3]\n",
    "print(todayDinnerMenu)\n"
   ],
   "id": "aa8adf5b3b7510ee",
   "outputs": [
    {
     "name": "stdout",
     "output_type": "stream",
     "text": [
      "['치킨', '국밥', '볶음밥', ['초밥', '스테이크', '피자'], '삼계탕', '라멘', '회', '제육볶음']\n"
     ]
    }
   ],
   "execution_count": 47
  },
  {
   "metadata": {
    "ExecuteTime": {
     "end_time": "2024-07-17T03:13:51.819572Z",
     "start_time": "2024-07-17T03:13:51.797943Z"
    }
   },
   "cell_type": "code",
   "source": "todayDinnerMenu[2:]",
   "id": "ebdc01ee0afbb1ab",
   "outputs": [
    {
     "data": {
      "text/plain": [
       "['볶음밥', ['초밥', '스테이크', '피자'], '삼계탕', '라멘', '회', '제육볶음']"
      ]
     },
     "execution_count": 48,
     "metadata": {},
     "output_type": "execute_result"
    }
   ],
   "execution_count": 48
  },
  {
   "metadata": {
    "ExecuteTime": {
     "end_time": "2024-07-17T03:14:12.201112Z",
     "start_time": "2024-07-17T03:14:12.185006Z"
    }
   },
   "cell_type": "code",
   "source": "todayDinnerMenu[:6]",
   "id": "c42d7843466df46b",
   "outputs": [
    {
     "data": {
      "text/plain": [
       "['치킨', '국밥', '볶음밥', ['초밥', '스테이크', '피자'], '삼계탕', '라멘']"
      ]
     },
     "execution_count": 49,
     "metadata": {},
     "output_type": "execute_result"
    }
   ],
   "execution_count": 49
  },
  {
   "metadata": {
    "ExecuteTime": {
     "end_time": "2024-07-17T03:14:29.794909Z",
     "start_time": "2024-07-17T03:14:29.780530Z"
    }
   },
   "cell_type": "code",
   "source": "todayDinnerMenu[::3]",
   "id": "18cb7a0eeabe2914",
   "outputs": [
    {
     "data": {
      "text/plain": [
       "['치킨', ['초밥', '스테이크', '피자'], '회']"
      ]
     },
     "execution_count": 50,
     "metadata": {},
     "output_type": "execute_result"
    }
   ],
   "execution_count": 50
  },
  {
   "metadata": {
    "ExecuteTime": {
     "end_time": "2024-07-17T05:19:06.872359Z",
     "start_time": "2024-07-17T05:19:06.860642Z"
    }
   },
   "cell_type": "code",
   "source": [
    "for i in range(10,1,-1):\n",
    "    print(i)"
   ],
   "id": "9bb0e19b496dd1a5",
   "outputs": [
    {
     "name": "stdout",
     "output_type": "stream",
     "text": [
      "10\n",
      "9\n",
      "8\n",
      "7\n",
      "6\n",
      "5\n",
      "4\n",
      "3\n",
      "2\n"
     ]
    }
   ],
   "execution_count": 51
  },
  {
   "metadata": {
    "ExecuteTime": {
     "end_time": "2024-07-17T06:09:17.688584Z",
     "start_time": "2024-07-17T06:09:17.684038Z"
    }
   },
   "cell_type": "code",
   "source": [
    "decimal = 10\n",
    "result = ''\n",
    "while (decimal >0):\n",
    "    remainder = decimal % 2\n",
    "    decimal = decimal //2\n",
    "    result = str(remainder)+result\n",
    "print(result)"
   ],
   "id": "e120c32df3b6dde3",
   "outputs": [
    {
     "name": "stdout",
     "output_type": "stream",
     "text": [
      "1010\n"
     ]
    }
   ],
   "execution_count": 62
  },
  {
   "metadata": {},
   "cell_type": "code",
   "outputs": [],
   "execution_count": null,
   "source": "",
   "id": "151b3d6c6cdfda1"
  }
 ],
 "metadata": {
  "kernelspec": {
   "display_name": "Python 3",
   "language": "python",
   "name": "python3"
  },
  "language_info": {
   "codemirror_mode": {
    "name": "ipython",
    "version": 2
   },
   "file_extension": ".py",
   "mimetype": "text/x-python",
   "name": "python",
   "nbconvert_exporter": "python",
   "pygments_lexer": "ipython2",
   "version": "2.7.6"
  }
 },
 "nbformat": 4,
 "nbformat_minor": 5
}
