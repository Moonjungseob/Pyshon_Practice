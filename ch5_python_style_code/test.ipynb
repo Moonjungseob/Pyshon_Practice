{
 "cells": [
  {
   "cell_type": "code",
   "id": "initial_id",
   "metadata": {
    "collapsed": true,
    "ExecuteTime": {
     "end_time": "2024-07-18T05:15:07.318699Z",
     "start_time": "2024-07-18T05:15:07.305052Z"
    }
   },
   "source": [
    "case1 = [\"A\", \"B\", \"C\"]\n",
    "case2 = [\"1\", \"2\", \"3\"]"
   ],
   "outputs": [],
   "execution_count": 1
  },
  {
   "metadata": {
    "ExecuteTime": {
     "end_time": "2024-07-18T05:15:07.324865Z",
     "start_time": "2024-07-18T05:15:07.318699Z"
    }
   },
   "cell_type": "code",
   "source": [
    "#1차원 리스트, for 문 2개있고, 앞의 for 문을 고정한다.\n",
    "result = [i + j for i in case1 for j in case2]\n",
    "print(result)"
   ],
   "id": "aa80e1e9d9241ca9",
   "outputs": [
    {
     "name": "stdout",
     "output_type": "stream",
     "text": [
      "['A1', 'A2', 'A3', 'B1', 'B2', 'B3', 'C1', 'C2', 'C3']\n"
     ]
    }
   ],
   "execution_count": 2
  },
  {
   "metadata": {
    "ExecuteTime": {
     "end_time": "2024-07-18T05:15:41.975276Z",
     "start_time": "2024-07-18T05:15:41.961945Z"
    }
   },
   "cell_type": "code",
   "source": [
    "#2차원 리스트, for 문 2개있고, 뒤 for 문을 고정한다.\n",
    "result = [[i + j for i in case1] for j in case2]\n",
    "print(result)"
   ],
   "id": "41feedf15c93e29f",
   "outputs": [
    {
     "name": "stdout",
     "output_type": "stream",
     "text": [
      "[['A1', 'B1', 'C1'], ['A2', 'B2', 'C2'], ['A3', 'B3', 'C3']]\n"
     ]
    }
   ],
   "execution_count": 5
  },
  {
   "metadata": {},
   "cell_type": "markdown",
   "source": "",
   "id": "a9f29089c59e8d07"
  },
  {
   "metadata": {
    "ExecuteTime": {
     "end_time": "2024-07-18T05:15:07.328297Z",
     "start_time": "2024-07-18T05:15:07.324865Z"
    }
   },
   "cell_type": "code",
   "source": [
    "for i, j in enumerate(result):\n",
    "    print(i, j)"
   ],
   "id": "398438a6af80faaf",
   "outputs": [
    {
     "name": "stdout",
     "output_type": "stream",
     "text": [
      "0 A1\n",
      "1 A2\n",
      "2 A3\n",
      "3 B1\n",
      "4 B2\n",
      "5 B3\n",
      "6 C1\n",
      "7 C2\n",
      "8 C3\n"
     ]
    }
   ],
   "execution_count": 3
  },
  {
   "metadata": {
    "ExecuteTime": {
     "end_time": "2024-07-18T05:15:07.332055Z",
     "start_time": "2024-07-18T05:15:07.328297Z"
    }
   },
   "cell_type": "code",
   "source": [
    "for a, b in zip(case1, case2):\n",
    "    print(a, b)"
   ],
   "id": "29c621a7e8b013ab",
   "outputs": [
    {
     "name": "stdout",
     "output_type": "stream",
     "text": [
      "A 1\n",
      "B 2\n",
      "C 3\n"
     ]
    }
   ],
   "execution_count": 4
  }
 ],
 "metadata": {
  "kernelspec": {
   "display_name": "Python 3",
   "language": "python",
   "name": "python3"
  },
  "language_info": {
   "codemirror_mode": {
    "name": "ipython",
    "version": 2
   },
   "file_extension": ".py",
   "mimetype": "text/x-python",
   "name": "python",
   "nbconvert_exporter": "python",
   "pygments_lexer": "ipython2",
   "version": "2.7.6"
  }
 },
 "nbformat": 4,
 "nbformat_minor": 5
}
